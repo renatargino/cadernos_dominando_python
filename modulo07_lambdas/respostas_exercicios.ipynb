{
 "cells": [
  {
   "cell_type": "code",
   "execution_count": null,
   "metadata": {
    "vscode": {
     "languageId": "plaintext"
    }
   },
   "outputs": [],
   "source": [
    "1. Lista de Quadrados com Compreensão de Lista:\n",
    "\n",
    "Python\n",
    "quadrados = [numero**2 for numero in range(1, 11)]\n",
    "print(quadrados)\n",
    "Use o código com cuidado.\n",
    "content_copy\n",
    "2. Números Pares com Compreensão de Lista:\n",
    "\n",
    "Python\n",
    "pares = [numero for numero in range(1, 21) if numero % 2 == 0]\n",
    "print(pares)\n",
    "Use o código com cuidado.\n",
    "content_copy\n",
    "3. Dicionário de Nomes e Idades com Compreensão de Dicionário:\n",
    "\n",
    "Python\n",
    "nomes = [\"João\", \"Maria\", \"Pedro\"]\n",
    "idades = [25, 30, 22]\n",
    "\n",
    "dicionario_nomes_idades = {nome: idade for nome, idade in zip(nomes, idades)}\n",
    "print(dicionario_nomes_idades)\n",
    "Use o código com cuidado.\n",
    "content_copy\n",
    "4. Removendo Duplicatas com Compreensão de Conjunto:\n",
    "\n",
    "Python\n",
    "lista_original = [1, 2, 3, 4, 1, 2, 5, 3, 6]\n",
    "lista_sem_duplicatas = list(set(lista_original))\n",
    "print(lista_sem_duplicatas)\n",
    "Use o código com cuidado.\n",
    "content_copy\n",
    "5. Combinando Listas em Dicionário com Compreensão de Dicionário:\n",
    "\n",
    "Python\n",
    "chaves = [\"nome\", \"cidade\", \"profissao\"]\n",
    "valores = [\"João\", \"São Paulo\", \"Professor\"]\n",
    "\n",
    "dicionario_comb = {chave: valor for chave, valor in zip(chaves, valores)}\n",
    "print(dicionario_comb)\n",
    "Use o código com cuidado.\n",
    "content_copy\n",
    "6. Filtrando Chaves e Valores em Dicionário:\n",
    "\n",
    "Python\n",
    "dicionario_original = {\"nome\": \"João\", \"idade\": 25, \"profissao\": \"Professor\", \"cidade\": \"São Paulo\"}\n",
    "\n",
    "dicionario_filtrado = {chave: valor for chave, valor in dicionario_original.items() if chave in [\"nome\", \"cidade\"]}\n",
    "print(dicionario_filtrado)\n",
    "Use o código com cuidado.\n",
    "content_copy\n",
    "Observações:\n",
    "\n",
    "As soluções acima demonstram diferentes maneiras de abordar os desafios com compreensões. Você pode explorar outras abordagens e otimizações de acordo com suas necessidades.\n",
    "As compreensões são ferramentas poderosas para manipular coleções de dados em Python de forma concisa e eficiente. Utilize-as com frequência para aprimorar suas habilidades de programação.\n",
    "Desafios Adicionais:\n",
    "\n",
    "Crie compreensões para realizar outras operações matemáticas, como somas, subtrações, divisões e raízes quadradas.\n",
    "Utilize compreensões para filtrar dados com base em diferentes critérios, como datas, valores específicos ou strings que contenham determinadas palavras.\n",
    "Combine compreensões com outras estruturas de controle e funções para construir soluções complexas de manipulação de dados.\n",
    "Lembre-se: a prática leva à perfeição! Quanto mais você utilizar as compreensões em Python, mais familiarizado se tornará com essa ferramenta poderosa e versátil para trabalhar com coleções de dados."
   ]
  }
 ],
 "metadata": {
  "language_info": {
   "name": "python"
  }
 },
 "nbformat": 4,
 "nbformat_minor": 2
}
