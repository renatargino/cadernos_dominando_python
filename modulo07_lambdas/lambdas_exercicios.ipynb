{
 "cells": [
  {
   "cell_type": "markdown",
   "metadata": {},
   "source": [
    "1. Criando uma Função Quadrada:\n",
    "\n",
    "Escreva uma função lambda que recebe um número como entrada e retorna o seu quadrado. Utilize essa função para calcular e imprimir os quadrados dos números de 1 a 5."
   ]
  },
  {
   "cell_type": "code",
   "execution_count": 11,
   "metadata": {},
   "outputs": [],
   "source": [
    "numeros_quadrado = []\n",
    "for numero in range(1,5):\n",
    "    quadrado = lambda numero: numero ** 2, numero\n",
    "    numeros_quadrado.append(quadrado)\n",
    "    "
   ]
  },
  {
   "cell_type": "code",
   "execution_count": 12,
   "metadata": {},
   "outputs": [
    {
     "data": {
      "text/plain": [
       "[(<function __main__.<lambda>(numero)>, 1),\n",
       " (<function __main__.<lambda>(numero)>, 2),\n",
       " (<function __main__.<lambda>(numero)>, 3),\n",
       " (<function __main__.<lambda>(numero)>, 4)]"
      ]
     },
     "execution_count": 12,
     "metadata": {},
     "output_type": "execute_result"
    }
   ],
   "source": [
    "numeros_quadrado"
   ]
  },
  {
   "cell_type": "markdown",
   "metadata": {},
   "source": [
    "2. Verificando se um Número é Par:\n",
    "\n",
    "Crie uma função lambda que recebe um número como entrada e retorna True se o número for par ou False caso contrário. Utilize essa função para verificar se os números de 1 a 10 são pares e imprimir os resultados."
   ]
  },
  {
   "cell_type": "code",
   "execution_count": 13,
   "metadata": {},
   "outputs": [],
   "source": [
    "eh_par = lambda numero: True if numero % 2 == 0 else False"
   ]
  },
  {
   "cell_type": "code",
   "execution_count": 21,
   "metadata": {},
   "outputs": [
    {
     "name": "stdout",
     "output_type": "stream",
     "text": [
      "O número 1 é IMPAR\n",
      "O número 2 é par\n",
      "O número 3 é IMPAR\n",
      "O número 4 é par\n",
      "O número 5 é IMPAR\n",
      "O número 6 é par\n",
      "O número 7 é IMPAR\n",
      "O número 8 é par\n",
      "O número 9 é IMPAR\n",
      "O número 10 é par\n"
     ]
    },
    {
     "ename": "",
     "evalue": "",
     "output_type": "error",
     "traceback": [
      "\u001b[1;31mThe Kernel crashed while executing code in the current cell or a previous cell. \n",
      "\u001b[1;31mPlease review the code in the cell(s) to identify a possible cause of the failure. \n",
      "\u001b[1;31mClick <a href='https://aka.ms/vscodeJupyterKernelCrash'>here</a> for more info. \n",
      "\u001b[1;31mView Jupyter <a href='command:jupyter.viewOutput'>log</a> for further details."
     ]
    }
   ],
   "source": [
    "for numero in range(1,11):\n",
    "    if eh_par(numero) == True:\n",
    "        print(f'O número {numero} é par')\n",
    "    else:\n",
    "        print(f'O número {numero} é IMPAR')"
   ]
  },
  {
   "cell_type": "markdown",
   "metadata": {},
   "source": [
    "3. Ordenando uma Lista de Palavras por Tamanho:\n",
    "\n",
    "Crie uma função lambda que recebe uma string como entrada e retorna o seu tamanho. Utilize essa função em conjunto com a função sorted() para ordenar uma lista de palavras em ordem crescente de tamanho."
   ]
  },
  {
   "cell_type": "code",
   "execution_count": null,
   "metadata": {},
   "outputs": [],
   "source": []
  },
  {
   "cell_type": "code",
   "execution_count": null,
   "metadata": {},
   "outputs": [],
   "source": []
  },
  {
   "cell_type": "code",
   "execution_count": null,
   "metadata": {},
   "outputs": [],
   "source": []
  }
 ],
 "metadata": {
  "kernelspec": {
   "display_name": "base",
   "language": "python",
   "name": "python3"
  },
  "language_info": {
   "codemirror_mode": {
    "name": "ipython",
    "version": 3
   },
   "file_extension": ".py",
   "mimetype": "text/x-python",
   "name": "python",
   "nbconvert_exporter": "python",
   "pygments_lexer": "ipython3",
   "version": "3.11.7"
  }
 },
 "nbformat": 4,
 "nbformat_minor": 2
}
