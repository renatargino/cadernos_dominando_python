{
 "cells": [
  {
   "cell_type": "markdown",
   "metadata": {},
   "source": [
    "# Programação Orientada a Objetos\n",
    "- paradigma de programação\n",
    "- classes e objetos\n",
    "- métodos e propriedades\n",
    "- 4 pilares: abstração, encapsulamento, herança e polimorfismo"
   ]
  },
  {
   "cell_type": "markdown",
   "metadata": {},
   "source": [
    "## Classes"
   ]
  },
  {
   "cell_type": "code",
   "execution_count": 2,
   "metadata": {},
   "outputs": [
    {
     "name": "stdout",
     "output_type": "stream",
     "text": [
      "[1, 4, 5, 10]\n"
     ]
    }
   ],
   "source": [
    "# exemplo de encapsulamento\n",
    "lista = [10, 4, 5, 1]\n",
    "lista.sort() # não sabemos o que é feito, mas sabemos o resultado\n",
    "print(lista)"
   ]
  },
  {
   "cell_type": "code",
   "execution_count": 6,
   "metadata": {},
   "outputs": [
    {
     "name": "stdout",
     "output_type": "stream",
     "text": [
      "30\n",
      "ab\n"
     ]
    }
   ],
   "source": [
    "# exemplo de polimorfismo -- comportamento/resultado diferente\n",
    "def somar(a, b):\n",
    "    print(a + b)\n",
    "\n",
    "somar(10,20)\n",
    "somar('a', 'b')"
   ]
  },
  {
   "cell_type": "code",
   "execution_count": 9,
   "metadata": {},
   "outputs": [],
   "source": [
    "# Nome de classes em CamelCase \n",
    "class Carro:\n",
    "    pass\n",
    "\n",
    "class ConsultorioMedico:\n",
    "    pass"
   ]
  },
  {
   "cell_type": "code",
   "execution_count": 36,
   "metadata": {},
   "outputs": [],
   "source": [
    "class Carro:\n",
    "    # métodos mágicos ? criando o método construtor\n",
    "    def __init__(self, cor, marca):\n",
    "        self.marca = marca\n",
    "        self.cor = cor\n",
    "        self.dono = 'Renato'\n",
    "        \n",
    "    # sempre passar o parâmetro self. Se forem 2 parametros, ficaria hello_car(self, a, b)\n",
    "    def hello_car(self):\n",
    "        print('Hello Car!')\n",
    "\n",
    "    def retorna_marca(self):\n",
    "        return self.marca"
   ]
  },
  {
   "cell_type": "markdown",
   "metadata": {},
   "source": [
    "## Objetos"
   ]
  },
  {
   "cell_type": "code",
   "execution_count": 22,
   "metadata": {},
   "outputs": [],
   "source": [
    "# instanciar um objeto a partir da classe\n",
    "ferrari = Carro()\n",
    "porshe = Carro()"
   ]
  },
  {
   "cell_type": "code",
   "execution_count": 12,
   "metadata": {},
   "outputs": [
    {
     "name": "stdout",
     "output_type": "stream",
     "text": [
      "<class '__main__.Carro'>\n",
      "<class '__main__.Carro'>\n"
     ]
    }
   ],
   "source": [
    "print(type(ferrari))\n",
    "print(type(porshe))"
   ]
  },
  {
   "cell_type": "markdown",
   "metadata": {},
   "source": [
    "## Atributos (propriedades)"
   ]
  },
  {
   "cell_type": "code",
   "execution_count": 23,
   "metadata": {},
   "outputs": [],
   "source": [
    "# criando um atributo ao objeto (não é uma boa prática fazer desse jeito)\n",
    "ferrari.cor = 'Vermelha'\n",
    "porshe.cor = 'Preta'"
   ]
  },
  {
   "cell_type": "code",
   "execution_count": 24,
   "metadata": {},
   "outputs": [
    {
     "name": "stdout",
     "output_type": "stream",
     "text": [
      "Vermelha\n",
      "Preta\n"
     ]
    }
   ],
   "source": [
    "print(ferrari.cor)\n",
    "print(porshe.cor)"
   ]
  },
  {
   "cell_type": "markdown",
   "metadata": {},
   "source": [
    "## Métodos\n",
    "\n",
    "- são basicamente funções criadas dentro de uma classe"
   ]
  },
  {
   "cell_type": "code",
   "execution_count": 25,
   "metadata": {},
   "outputs": [
    {
     "name": "stdout",
     "output_type": "stream",
     "text": [
      "Hello Car!\n"
     ]
    }
   ],
   "source": [
    "ferrari.hello_car()"
   ]
  },
  {
   "cell_type": "code",
   "execution_count": 26,
   "metadata": {},
   "outputs": [
    {
     "name": "stdout",
     "output_type": "stream",
     "text": [
      "Hello Car!\n"
     ]
    }
   ],
   "source": [
    "porshe.hello_car()"
   ]
  },
  {
   "cell_type": "markdown",
   "metadata": {},
   "source": [
    "## Método construtor\n",
    "- método que sempre é executado quando um objeto da classe é instanciado"
   ]
  },
  {
   "cell_type": "code",
   "execution_count": 30,
   "metadata": {},
   "outputs": [],
   "source": [
    "ferrari = Carro('vermelha', 'Ferrari')\n",
    "porshe = Carro('preta', 'Porshe')"
   ]
  },
  {
   "cell_type": "code",
   "execution_count": 31,
   "metadata": {},
   "outputs": [
    {
     "name": "stdout",
     "output_type": "stream",
     "text": [
      "vermelha\n",
      "preta\n"
     ]
    }
   ],
   "source": [
    "print(ferrari.cor)\n",
    "print(porshe.cor)"
   ]
  },
  {
   "cell_type": "code",
   "execution_count": 37,
   "metadata": {},
   "outputs": [],
   "source": [
    "civic = Carro('Preta', 'Civic')"
   ]
  },
  {
   "cell_type": "code",
   "execution_count": 35,
   "metadata": {},
   "outputs": [
    {
     "data": {
      "text/plain": [
       "'Renato'"
      ]
     },
     "execution_count": 35,
     "metadata": {},
     "output_type": "execute_result"
    }
   ],
   "source": [
    "civic.dono"
   ]
  },
  {
   "cell_type": "code",
   "execution_count": 38,
   "metadata": {},
   "outputs": [
    {
     "data": {
      "text/plain": [
       "'Civic'"
      ]
     },
     "execution_count": 38,
     "metadata": {},
     "output_type": "execute_result"
    }
   ],
   "source": [
    "civic.retorna_marca()"
   ]
  },
  {
   "cell_type": "code",
   "execution_count": 39,
   "metadata": {},
   "outputs": [],
   "source": [
    "class Animal:\n",
    "  def __init__(self, nome, especie):\n",
    "    # atributos da classe: são basicamente as suas variáveis (_nome e _especie)\n",
    "    self._nome = nome\n",
    "    self._especie = especie\n",
    "\n",
    "  # métodos da classe: são funções definidas dentro de uma classe\n",
    "  def emitir_som(self, som): # som é um parâmetro do método emitir_som\n",
    "    return f\"O animal {self._nome} está fazendo o som {som}!\"\n",
    "\n",
    "  # propriedades da classe: são utilizadas para evitar que a gente manipule um atributo diretamente\n",
    "  @property\n",
    "  def nome(self):\n",
    "    return self._nome\n",
    "\n",
    "  @nome.setter\n",
    "  def nome(self, nome):\n",
    "    self._nome = nome\n"
   ]
  },
  {
   "cell_type": "code",
   "execution_count": 40,
   "metadata": {},
   "outputs": [
    {
     "name": "stdout",
     "output_type": "stream",
     "text": [
      "Leão\n",
      "O animal Leão está fazendo o som Wowwww!\n",
      "\n",
      "\n",
      "Macaco\n"
     ]
    }
   ],
   "source": [
    "animal = Animal('Leão', 'Mamífero')\n",
    "print(animal.nome) # acessando a propriedade nome\n",
    "print(animal.emitir_som('Wowwww')) # invocando o método emitir_som e passando o argumento 'Wowwww'\n",
    "\n",
    "print('\\n')\n",
    "\n",
    "# mudando o nome através da propriedade nome\n",
    "animal.nome = \"Macaco\"\n",
    "print(animal.nome) # acessando a propriedade nome\n"
   ]
  },
  {
   "cell_type": "code",
   "execution_count": null,
   "metadata": {},
   "outputs": [],
   "source": []
  },
  {
   "cell_type": "code",
   "execution_count": null,
   "metadata": {},
   "outputs": [],
   "source": []
  },
  {
   "cell_type": "code",
   "execution_count": null,
   "metadata": {},
   "outputs": [],
   "source": []
  },
  {
   "cell_type": "code",
   "execution_count": null,
   "metadata": {},
   "outputs": [],
   "source": []
  },
  {
   "cell_type": "code",
   "execution_count": null,
   "metadata": {},
   "outputs": [],
   "source": []
  },
  {
   "cell_type": "code",
   "execution_count": null,
   "metadata": {},
   "outputs": [],
   "source": []
  },
  {
   "cell_type": "code",
   "execution_count": null,
   "metadata": {},
   "outputs": [],
   "source": []
  },
  {
   "cell_type": "code",
   "execution_count": null,
   "metadata": {},
   "outputs": [],
   "source": []
  },
  {
   "cell_type": "code",
   "execution_count": null,
   "metadata": {},
   "outputs": [],
   "source": []
  },
  {
   "cell_type": "code",
   "execution_count": null,
   "metadata": {},
   "outputs": [],
   "source": []
  },
  {
   "cell_type": "code",
   "execution_count": null,
   "metadata": {},
   "outputs": [],
   "source": []
  }
 ],
 "metadata": {
  "kernelspec": {
   "display_name": "base",
   "language": "python",
   "name": "python3"
  },
  "language_info": {
   "codemirror_mode": {
    "name": "ipython",
    "version": 3
   },
   "file_extension": ".py",
   "mimetype": "text/x-python",
   "name": "python",
   "nbconvert_exporter": "python",
   "pygments_lexer": "ipython3",
   "version": "3.11.7"
  }
 },
 "nbformat": 4,
 "nbformat_minor": 2
}
