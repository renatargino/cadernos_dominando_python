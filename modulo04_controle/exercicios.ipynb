{
 "cells": [
  {
   "cell_type": "markdown",
   "metadata": {},
   "source": [
    "# Exercícios com elif\n",
    "\n",
    "## 1. Venda de ingressos:\n",
    "\n",
    "Uma casa de shows está vendendo ingressos para um show. Os ingressos custam R$ 50,00 cada. Escreva um programa que peça ao usuário quantos ingressos ele deseja comprar e mostre o total a pagar. Se o usuário comprar 10 ou mais ingressos, ele terá um desconto de 10% no valor total."
   ]
  },
  {
   "cell_type": "code",
   "execution_count": 33,
   "metadata": {},
   "outputs": [
    {
     "name": "stdout",
     "output_type": "stream",
     "text": [
      "O total da compra será R$675.0. Providenciamos um desconto de 10% devido a compra de 10 ou mais ingressos!\n"
     ]
    }
   ],
   "source": [
    "ingresso = 50.00\n",
    "desconto = 0.10\n",
    "quantidade = int(input('Bem vindo(a)! Por gentileza informe a quantidade de ingressos que deseja comprar para estra atração: '))\n",
    "if quantidade >= 10:\n",
    "    total = quantidade * ingresso\n",
    "    desconto_ingresso = total * desconto\n",
    "    print(f'O total da compra será R${total - desconto_ingresso}. Providenciamos um desconto de 10% devido a compra de 10 ou mais ingressos!')\n",
    "elif quantidade < 10:\n",
    "    total = quantidade * ingresso\n",
    "    print(f'O total da compra será R${total}.')\n"
   ]
  },
  {
   "cell_type": "markdown",
   "metadata": {},
   "source": [
    "## 2. Classificador de frutas:\n",
    "\n",
    "Uma loja de frutas vende maçãs, laranjas e bananas. Escreva um programa que peça ao usuário qual fruta ele deseja comprar e mostre o preço por kg. Utilize o seguinte preço por kg:\n",
    "\n",
    "Maçã: R$ 5,00\n",
    "Laranja: R$ 3,00\n",
    "Banana: R$ 2,00\n",
    "O programa também deve pedir ao usuário quantos kg ele deseja comprar e mostrar o total a pagar."
   ]
  },
  {
   "cell_type": "code",
   "execution_count": 55,
   "metadata": {},
   "outputs": [
    {
     "name": "stdout",
     "output_type": "stream",
     "text": [
      "Não temos essa fruta disponível!\n"
     ]
    }
   ],
   "source": [
    "precos_frutas = {\n",
    "    'maçã': 5,\n",
    "    'banana': 2,\n",
    "    'laranja': 3\n",
    "}\n",
    "\n",
    "fruta = input('Bem vindo. Vendemos bananas, laranjas e maçãs. Qual fruta você quer comprar? ').lower().strip()\n",
    "if fruta in precos_frutas.keys():\n",
    "    print(f'O preço do KG da {fruta} é de R${precos_frutas.get(fruta)},00.')\n",
    "elif fruta not in precos_frutas.keys():\n",
    "    print('Não temos essa fruta disponível!')\n"
   ]
  },
  {
   "cell_type": "code",
   "execution_count": 48,
   "metadata": {},
   "outputs": [
    {
     "data": {
      "text/plain": [
       "dict_keys(['maçã', 'banana', 'laranja'])"
      ]
     },
     "execution_count": 48,
     "metadata": {},
     "output_type": "execute_result"
    }
   ],
   "source": [
    "precos_frutas.keys()"
   ]
  },
  {
   "cell_type": "markdown",
   "metadata": {},
   "source": [
    "## 3. Contagem regressiva:\n",
    "\n",
    "Escreva um programa que peça ao usuário um número e faça uma contagem regressiva a partir desse número até 0. A cada número, o programa deve imprimir na tela o número restante."
   ]
  },
  {
   "cell_type": "code",
   "execution_count": null,
   "metadata": {},
   "outputs": [],
   "source": []
  },
  {
   "cell_type": "code",
   "execution_count": null,
   "metadata": {},
   "outputs": [],
   "source": []
  },
  {
   "cell_type": "markdown",
   "metadata": {},
   "source": [
    "# Exercícios com for\n",
    "\n",
    "1. Tabuada: (já feito)\n",
    "\n",
    "Escreva um programa que imprima na tela a tabuada de um número digitado pelo usuário. A tabuada deve ir de 1 a 10.\n",
    "\n",
    "## 2. Lista de compras:\n",
    "\n",
    "Escreva um programa que peça ao usuário que digite 5 itens para uma lista de compras. Em seguida, o programa deve imprimir a lista na tela."
   ]
  },
  {
   "cell_type": "code",
   "execution_count": 7,
   "metadata": {},
   "outputs": [
    {
     "name": "stdout",
     "output_type": "stream",
     "text": [
      "Item 0: Maçã.\n",
      "Item 1: Gatinho novo.\n",
      "Item 2: teclado.\n",
      "Item 3: coberta.\n",
      "Item 4: presente mãe.\n"
     ]
    }
   ],
   "source": [
    "contador = 0\n",
    "lista_compras = []\n",
    "\n",
    "while contador < 5:\n",
    "    lista_compras.append(input('Escreva 5 itens para adicionar na sua lista de compras: '))\n",
    "    contador += 1\n",
    "\n",
    "for indice, item in enumerate(lista_compras):\n",
    "    print(f'Item {indice}: {item}.')"
   ]
  },
  {
   "cell_type": "code",
   "execution_count": 2,
   "metadata": {},
   "outputs": [
    {
     "data": {
      "text/plain": [
       "['', 'cu', 'buceta', 'tetas', 'gatos']"
      ]
     },
     "execution_count": 2,
     "metadata": {},
     "output_type": "execute_result"
    }
   ],
   "source": []
  },
  {
   "cell_type": "markdown",
   "metadata": {},
   "source": [
    "## 3. Média de notas:\n",
    "\n",
    "Escreva um programa que peça ao usuário que digite as notas de 5 alunos. Em seguida, o programa deve calcular a média das notas e imprimi-la na tela."
   ]
  },
  {
   "cell_type": "code",
   "execution_count": null,
   "metadata": {},
   "outputs": [],
   "source": []
  },
  {
   "cell_type": "code",
   "execution_count": null,
   "metadata": {},
   "outputs": [],
   "source": []
  },
  {
   "cell_type": "markdown",
   "metadata": {},
   "source": [
    "# Exercícios com while\n",
    "\n",
    "## 1. Jogo da adivinhação:\n",
    "\n",
    "Escreva um programa que gere um número aleatório entre 1 e 100 e peça ao usuário adivinhá-lo. O programa deve continuar pedindo palpites até que o usuário acerte o número. A cada palpite, o programa deve dizer se o palpite é maior, menor ou igual ao número aleatório."
   ]
  },
  {
   "cell_type": "code",
   "execution_count": null,
   "metadata": {},
   "outputs": [],
   "source": []
  },
  {
   "cell_type": "code",
   "execution_count": null,
   "metadata": {},
   "outputs": [],
   "source": []
  },
  {
   "cell_type": "markdown",
   "metadata": {},
   "source": [
    "## 2. Caixa eletrônico:\n",
    "\n",
    "Escreva um programa que simule um caixa eletrônico. O programa deve ter as seguintes funções:\n",
    "\n",
    "- Depositar dinheiro\n",
    "- Sacar dinheiro\n",
    "- Consultar saldo\n",
    " \n",
    "O programa deve usar um loop while para permitir que o usuário realize várias operações até que ele decida sair."
   ]
  },
  {
   "cell_type": "code",
   "execution_count": null,
   "metadata": {},
   "outputs": [],
   "source": []
  },
  {
   "cell_type": "code",
   "execution_count": null,
   "metadata": {},
   "outputs": [],
   "source": []
  },
  {
   "cell_type": "markdown",
   "metadata": {},
   "source": [
    "## 3. Contagem regressiva:\n",
    "\n",
    "Escreva um programa que peça ao usuário um número e faça uma contagem regressiva a partir desse número até 0. A cada número, o programa deve imprimir na tela o número restante."
   ]
  },
  {
   "cell_type": "code",
   "execution_count": null,
   "metadata": {},
   "outputs": [],
   "source": []
  },
  {
   "cell_type": "code",
   "execution_count": null,
   "metadata": {},
   "outputs": [],
   "source": []
  },
  {
   "cell_type": "code",
   "execution_count": null,
   "metadata": {},
   "outputs": [],
   "source": []
  },
  {
   "cell_type": "code",
   "execution_count": null,
   "metadata": {},
   "outputs": [],
   "source": []
  },
  {
   "cell_type": "code",
   "execution_count": null,
   "metadata": {},
   "outputs": [],
   "source": []
  }
 ],
 "metadata": {
  "kernelspec": {
   "display_name": "base",
   "language": "python",
   "name": "python3"
  },
  "language_info": {
   "codemirror_mode": {
    "name": "ipython",
    "version": 3
   },
   "file_extension": ".py",
   "mimetype": "text/x-python",
   "name": "python",
   "nbconvert_exporter": "python",
   "pygments_lexer": "ipython3",
   "version": "3.11.7"
  }
 },
 "nbformat": 4,
 "nbformat_minor": 2
}
