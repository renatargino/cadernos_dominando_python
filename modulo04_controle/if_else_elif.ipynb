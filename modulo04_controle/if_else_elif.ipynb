{
 "cells": [
  {
   "cell_type": "markdown",
   "metadata": {},
   "source": [
    "# if - else - elif\n",
    "\n",
    "Crie uma função que receba uma idade e retornea sua faixa etária de acordo com as especificações abaixo:\n",
    "\n",
    "- 0 a 18 anos: menor de idade\n",
    "- 18 a 60: adulto\n",
    "- 60 a 100: idoso(a)\n",
    "- maior que 100: highlander\n",
    "- menor que 0: feto\n"
   ]
  },
  {
   "cell_type": "code",
   "execution_count": 7,
   "metadata": {},
   "outputs": [],
   "source": [
    "# jeito noob\n",
    "\n",
    "def faixa_etaria(idade):\n",
    "\n",
    "    idade = int(idade)\n",
    "\n",
    "    if idade >= 0 and idade < 18:\n",
    "        return 'menor de idade'\n",
    "    else:\n",
    "        if idade >=18 and idade < 60:\n",
    "            return 'adulto'\n",
    "        else:\n",
    "            if idade >=60 and idade < 100:\n",
    "                return 'idoso(a)'\n",
    "            else:\n",
    "                if idade >= 100:\n",
    "                    return 'highlander'\n",
    "                else:\n",
    "                    return 'feto'"
   ]
  },
  {
   "cell_type": "code",
   "execution_count": 2,
   "metadata": {},
   "outputs": [],
   "source": [
    "def faixa_etaria(idade):\n",
    "\n",
    "    idade = int(idade)\n",
    "\n",
    "    if 0 <= idade < 18:   # invés de if idade >=0 and idade < 18:\n",
    "        return 'menor de idade'\n",
    "    elif 18 <= idade < 60:\n",
    "        return 'adulto'\n",
    "    elif 60 < idade < 100:\n",
    "        return 'idoso(a)'\n",
    "    elif idade >= 100:\n",
    "        return 'highlander'\n",
    "    else:\n",
    "        return 'feto'"
   ]
  },
  {
   "cell_type": "code",
   "execution_count": 3,
   "metadata": {},
   "outputs": [
    {
     "name": "stdout",
     "output_type": "stream",
     "text": [
      "menor de idade\n"
     ]
    }
   ],
   "source": [
    "print(faixa_etaria(17))"
   ]
  },
  {
   "cell_type": "code",
   "execution_count": 4,
   "metadata": {},
   "outputs": [
    {
     "name": "stdout",
     "output_type": "stream",
     "text": [
      "highlander\n"
     ]
    }
   ],
   "source": [
    "print(faixa_etaria(159))"
   ]
  },
  {
   "cell_type": "code",
   "execution_count": 5,
   "metadata": {},
   "outputs": [
    {
     "name": "stdout",
     "output_type": "stream",
     "text": [
      "adulto\n"
     ]
    }
   ],
   "source": [
    "print(faixa_etaria(21))"
   ]
  },
  {
   "cell_type": "code",
   "execution_count": 6,
   "metadata": {},
   "outputs": [
    {
     "name": "stdout",
     "output_type": "stream",
     "text": [
      "feto\n"
     ]
    }
   ],
   "source": [
    "print(faixa_etaria(-1))"
   ]
  },
  {
   "cell_type": "code",
   "execution_count": 8,
   "metadata": {},
   "outputs": [],
   "source": [
    "# jeito profissa\n",
    "\n",
    "def faixa_etaria(idade):\n",
    "\n",
    "    idade = int(idade)\n",
    "    mensagem = 'feto'\n",
    "    \n",
    "    if 0 <= idade < 18:   # invés de if idade >=0 and idade < 18:\n",
    "        mensagem = 'menor de idade'\n",
    "    elif 18 <= idade < 60:\n",
    "        mensagem =  'adulto'\n",
    "    elif 60 < idade < 100:\n",
    "        mensagem =  'idoso(a)'\n",
    "    elif idade >= 100:\n",
    "        mensagem =  'highlander'\n",
    "\n",
    "    return mensagem"
   ]
  },
  {
   "cell_type": "code",
   "execution_count": 9,
   "metadata": {},
   "outputs": [
    {
     "name": "stdout",
     "output_type": "stream",
     "text": [
      "adulto\n"
     ]
    }
   ],
   "source": [
    "print(faixa_etaria(21))"
   ]
  },
  {
   "cell_type": "code",
   "execution_count": null,
   "metadata": {},
   "outputs": [],
   "source": []
  },
  {
   "cell_type": "code",
   "execution_count": null,
   "metadata": {},
   "outputs": [],
   "source": []
  },
  {
   "cell_type": "code",
   "execution_count": null,
   "metadata": {},
   "outputs": [],
   "source": []
  },
  {
   "cell_type": "code",
   "execution_count": null,
   "metadata": {},
   "outputs": [],
   "source": []
  },
  {
   "cell_type": "code",
   "execution_count": null,
   "metadata": {},
   "outputs": [],
   "source": []
  },
  {
   "cell_type": "code",
   "execution_count": null,
   "metadata": {},
   "outputs": [],
   "source": []
  },
  {
   "cell_type": "code",
   "execution_count": null,
   "metadata": {},
   "outputs": [],
   "source": []
  }
 ],
 "metadata": {
  "kernelspec": {
   "display_name": "base",
   "language": "python",
   "name": "python3"
  },
  "language_info": {
   "codemirror_mode": {
    "name": "ipython",
    "version": 3
   },
   "file_extension": ".py",
   "mimetype": "text/x-python",
   "name": "python",
   "nbconvert_exporter": "python",
   "pygments_lexer": "ipython3",
   "version": "3.11.7"
  }
 },
 "nbformat": 4,
 "nbformat_minor": 2
}
