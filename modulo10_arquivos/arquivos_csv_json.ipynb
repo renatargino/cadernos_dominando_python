{
 "cells": [
  {
   "cell_type": "markdown",
   "metadata": {},
   "source": [
    "# Trabalhando com arquivos CSV\n",
    "\n",
    "- CSV - Comma Separeted Values\n",
    "- podemos utilizar o módulo csv para trabalhar com esse tipo de arquivo\n",
    "    - retorna um objeto _csv.reader"
   ]
  },
  {
   "cell_type": "code",
   "execution_count": 1,
   "metadata": {},
   "outputs": [
    {
     "name": "stdout",
     "output_type": "stream",
     "text": [
      "josé;30\n",
      "gabriel;25\n",
      "lucas;15\n",
      "ana;45\n",
      "maria;60\n",
      "victor;70\n"
     ]
    }
   ],
   "source": [
    "with open('dados.csv') as arquivo:\n",
    "    print(arquivo.read())"
   ]
  },
  {
   "cell_type": "code",
   "execution_count": 2,
   "metadata": {},
   "outputs": [
    {
     "name": "stdout",
     "output_type": "stream",
     "text": [
      "<class '_csv.reader'>\n"
     ]
    }
   ],
   "source": [
    "import csv\n",
    "\n",
    "with open('dados.csv', 'r') as arquivo:\n",
    "    arquivo_csv = csv.reader(arquivo)\n",
    "    print(type(arquivo_csv))"
   ]
  },
  {
   "cell_type": "code",
   "execution_count": 4,
   "metadata": {},
   "outputs": [
    {
     "name": "stdout",
     "output_type": "stream",
     "text": [
      "['josé;30']\n",
      "['gabriel;25']\n",
      "['lucas;15']\n",
      "['ana;45']\n",
      "['maria;60']\n",
      "['victor;70']\n"
     ]
    }
   ],
   "source": [
    "with open('dados.csv', 'r') as arquivo:\n",
    "    arquivo_csv = csv.reader(arquivo)\n",
    "    for dado in arquivo_csv:\n",
    "        print(dado)"
   ]
  },
  {
   "cell_type": "code",
   "execution_count": 5,
   "metadata": {},
   "outputs": [
    {
     "name": "stdout",
     "output_type": "stream",
     "text": [
      "['josé', '30']\n",
      "['gabriel', '25']\n",
      "['lucas', '15']\n",
      "['ana', '45']\n",
      "['maria', '60']\n",
      "['victor', '70']\n"
     ]
    }
   ],
   "source": [
    "# por padrão o csv espera que o separador seja uma vírgula. então devemos passar o delimitador\n",
    "with open('dados.csv', 'r') as arquivo:\n",
    "    arquivo_csv = csv.reader(arquivo, delimiter=';')\n",
    "    for dado in arquivo_csv:\n",
    "        print(dado)"
   ]
  },
  {
   "cell_type": "code",
   "execution_count": 8,
   "metadata": {},
   "outputs": [
    {
     "name": "stdout",
     "output_type": "stream",
     "text": [
      "Nome: José - Idade: 30\n",
      "Nome: Gabriel - Idade: 25\n",
      "Nome: Lucas - Idade: 15\n",
      "Nome: Ana - Idade: 45\n",
      "Nome: Maria - Idade: 60\n",
      "Nome: Victor - Idade: 70\n"
     ]
    }
   ],
   "source": [
    "with open('dados.csv', 'r') as arquivo:\n",
    "    arquivo_csv = csv.reader(arquivo, delimiter=';')\n",
    "    for dado in arquivo_csv:\n",
    "        print(f'Nome: {dado[0].capitalize()} - Idade: {dado[1]}')"
   ]
  },
  {
   "cell_type": "markdown",
   "metadata": {
    "vscode": {
     "languageId": "plaintext"
    }
   },
   "source": [
    "# Trabalhando com arquivos JSON\n",
    "\n",
    "- JSON - JavaScript Object Notation\n",
    "- formato padrão para troca de mensagens entre sistemas web\n",
    "- muito utilizados em bancos de dados não relacionais\n",
    "- podemos utilizar o módulo JSON para trabalhar com esse tipo de arquivo\n",
    "    - retorna uma lista"
   ]
  },
  {
   "cell_type": "code",
   "execution_count": 9,
   "metadata": {},
   "outputs": [
    {
     "name": "stdout",
     "output_type": "stream",
     "text": [
      "[\n",
      "    {\n",
      "      \"nome\": \"José\",\n",
      "      \"idade\": 25\n",
      "    },\n",
      "    {\n",
      "      \"nome\": \"Maria\",\n",
      "      \"idade\": 19\n",
      "    },\n",
      "    {\n",
      "      \"nome\": \"Gabriel\",\n",
      "      \"idade\": 21\n",
      "    },\n",
      "    {\n",
      "      \"nome\": \"Lucas\",\n",
      "      \"idade\": 16\n",
      "    }\n",
      "  ]\n"
     ]
    }
   ],
   "source": [
    "with open('dados.json', 'r') as arquivo:\n",
    "    print(arquivo.read())"
   ]
  },
  {
   "cell_type": "code",
   "execution_count": 10,
   "metadata": {},
   "outputs": [
    {
     "name": "stdout",
     "output_type": "stream",
     "text": [
      "[{'nome': 'José', 'idade': 25}, {'nome': 'Maria', 'idade': 19}, {'nome': 'Gabriel', 'idade': 21}, {'nome': 'Lucas', 'idade': 16}]\n"
     ]
    }
   ],
   "source": [
    "import json\n",
    "\n",
    "with open('dados.json', 'r') as arquivo:\n",
    "    arquivo_json = json.load(arquivo)\n",
    "    print(arquivo_json)"
   ]
  },
  {
   "cell_type": "code",
   "execution_count": 11,
   "metadata": {},
   "outputs": [
    {
     "name": "stdout",
     "output_type": "stream",
     "text": [
      "{'nome': 'José', 'idade': 25}\n",
      "{'nome': 'Maria', 'idade': 19}\n",
      "{'nome': 'Gabriel', 'idade': 21}\n",
      "{'nome': 'Lucas', 'idade': 16}\n"
     ]
    }
   ],
   "source": [
    "with open('dados.json', 'r') as arquivo:\n",
    "    arquivo_json = json.load(arquivo)\n",
    "    for dado in arquivo_json:\n",
    "        print(dado)"
   ]
  },
  {
   "cell_type": "code",
   "execution_count": 12,
   "metadata": {},
   "outputs": [
    {
     "name": "stdout",
     "output_type": "stream",
     "text": [
      "Nome: José - Idade: 25 \n",
      "Nome: Maria - Idade: 19 \n",
      "Nome: Gabriel - Idade: 21 \n",
      "Nome: Lucas - Idade: 16 \n"
     ]
    }
   ],
   "source": [
    "with open('dados.json', 'r') as arquivo:\n",
    "    arquivo_json = json.load(arquivo)\n",
    "    for dado in arquivo_json:\n",
    "        print(f\"Nome: {dado['nome']} - Idade: {dado['idade']} \")"
   ]
  },
  {
   "cell_type": "markdown",
   "metadata": {},
   "source": [
    "# Apresentando o Pandas\n",
    "\n",
    "- biblioteca mais popular para tratamento e análise de dados\n",
    "- consegue trabalhar facilmente com vários formatos de arquivos (CSV, JSON, XLSX...)\n",
    "- vamos trabalhar MUITO com a biblioteca Pandas ao longo da nossa formação!"
   ]
  },
  {
   "cell_type": "code",
   "execution_count": 13,
   "metadata": {},
   "outputs": [],
   "source": [
    "import pandas as pd"
   ]
  },
  {
   "cell_type": "markdown",
   "metadata": {},
   "source": [
    "## Método read_csv()\n",
    "- Lê arquivos no formato CSV \n",
    "- Coloca os dados em um formato tabular chamado DataFrame"
   ]
  },
  {
   "cell_type": "code",
   "execution_count": 14,
   "metadata": {},
   "outputs": [],
   "source": [
    "arquivo = pd.read_csv('dados.csv', delimiter=';')"
   ]
  },
  {
   "cell_type": "code",
   "execution_count": 15,
   "metadata": {},
   "outputs": [
    {
     "data": {
      "text/html": [
       "<div>\n",
       "<style scoped>\n",
       "    .dataframe tbody tr th:only-of-type {\n",
       "        vertical-align: middle;\n",
       "    }\n",
       "\n",
       "    .dataframe tbody tr th {\n",
       "        vertical-align: top;\n",
       "    }\n",
       "\n",
       "    .dataframe thead th {\n",
       "        text-align: right;\n",
       "    }\n",
       "</style>\n",
       "<table border=\"1\" class=\"dataframe\">\n",
       "  <thead>\n",
       "    <tr style=\"text-align: right;\">\n",
       "      <th></th>\n",
       "      <th>josé</th>\n",
       "      <th>30</th>\n",
       "    </tr>\n",
       "  </thead>\n",
       "  <tbody>\n",
       "    <tr>\n",
       "      <th>0</th>\n",
       "      <td>gabriel</td>\n",
       "      <td>25</td>\n",
       "    </tr>\n",
       "    <tr>\n",
       "      <th>1</th>\n",
       "      <td>lucas</td>\n",
       "      <td>15</td>\n",
       "    </tr>\n",
       "    <tr>\n",
       "      <th>2</th>\n",
       "      <td>ana</td>\n",
       "      <td>45</td>\n",
       "    </tr>\n",
       "    <tr>\n",
       "      <th>3</th>\n",
       "      <td>maria</td>\n",
       "      <td>60</td>\n",
       "    </tr>\n",
       "    <tr>\n",
       "      <th>4</th>\n",
       "      <td>victor</td>\n",
       "      <td>70</td>\n",
       "    </tr>\n",
       "  </tbody>\n",
       "</table>\n",
       "</div>"
      ],
      "text/plain": [
       "      josé  30\n",
       "0  gabriel  25\n",
       "1    lucas  15\n",
       "2      ana  45\n",
       "3    maria  60\n",
       "4   victor  70"
      ]
     },
     "execution_count": 15,
     "metadata": {},
     "output_type": "execute_result"
    }
   ],
   "source": [
    "arquivo"
   ]
  },
  {
   "cell_type": "code",
   "execution_count": 16,
   "metadata": {},
   "outputs": [
    {
     "data": {
      "text/html": [
       "<div>\n",
       "<style scoped>\n",
       "    .dataframe tbody tr th:only-of-type {\n",
       "        vertical-align: middle;\n",
       "    }\n",
       "\n",
       "    .dataframe tbody tr th {\n",
       "        vertical-align: top;\n",
       "    }\n",
       "\n",
       "    .dataframe thead th {\n",
       "        text-align: right;\n",
       "    }\n",
       "</style>\n",
       "<table border=\"1\" class=\"dataframe\">\n",
       "  <thead>\n",
       "    <tr style=\"text-align: right;\">\n",
       "      <th></th>\n",
       "      <th>0</th>\n",
       "      <th>1</th>\n",
       "    </tr>\n",
       "  </thead>\n",
       "  <tbody>\n",
       "    <tr>\n",
       "      <th>0</th>\n",
       "      <td>josé</td>\n",
       "      <td>30</td>\n",
       "    </tr>\n",
       "    <tr>\n",
       "      <th>1</th>\n",
       "      <td>gabriel</td>\n",
       "      <td>25</td>\n",
       "    </tr>\n",
       "    <tr>\n",
       "      <th>2</th>\n",
       "      <td>lucas</td>\n",
       "      <td>15</td>\n",
       "    </tr>\n",
       "    <tr>\n",
       "      <th>3</th>\n",
       "      <td>ana</td>\n",
       "      <td>45</td>\n",
       "    </tr>\n",
       "    <tr>\n",
       "      <th>4</th>\n",
       "      <td>maria</td>\n",
       "      <td>60</td>\n",
       "    </tr>\n",
       "    <tr>\n",
       "      <th>5</th>\n",
       "      <td>victor</td>\n",
       "      <td>70</td>\n",
       "    </tr>\n",
       "  </tbody>\n",
       "</table>\n",
       "</div>"
      ],
      "text/plain": [
       "         0   1\n",
       "0     josé  30\n",
       "1  gabriel  25\n",
       "2    lucas  15\n",
       "3      ana  45\n",
       "4    maria  60\n",
       "5   victor  70"
      ]
     },
     "execution_count": 16,
     "metadata": {},
     "output_type": "execute_result"
    }
   ],
   "source": [
    "# ignorar a primeira linha e não transformar ela em cabeçalho\n",
    "arquivo = pd.read_csv('dados.csv', delimiter=';', header=None)\n",
    "arquivo"
   ]
  },
  {
   "cell_type": "code",
   "execution_count": 17,
   "metadata": {},
   "outputs": [
    {
     "data": {
      "text/html": [
       "<div>\n",
       "<style scoped>\n",
       "    .dataframe tbody tr th:only-of-type {\n",
       "        vertical-align: middle;\n",
       "    }\n",
       "\n",
       "    .dataframe tbody tr th {\n",
       "        vertical-align: top;\n",
       "    }\n",
       "\n",
       "    .dataframe thead th {\n",
       "        text-align: right;\n",
       "    }\n",
       "</style>\n",
       "<table border=\"1\" class=\"dataframe\">\n",
       "  <thead>\n",
       "    <tr style=\"text-align: right;\">\n",
       "      <th></th>\n",
       "      <th>nome</th>\n",
       "      <th>idade</th>\n",
       "    </tr>\n",
       "  </thead>\n",
       "  <tbody>\n",
       "    <tr>\n",
       "      <th>0</th>\n",
       "      <td>josé</td>\n",
       "      <td>30</td>\n",
       "    </tr>\n",
       "    <tr>\n",
       "      <th>1</th>\n",
       "      <td>gabriel</td>\n",
       "      <td>25</td>\n",
       "    </tr>\n",
       "    <tr>\n",
       "      <th>2</th>\n",
       "      <td>lucas</td>\n",
       "      <td>15</td>\n",
       "    </tr>\n",
       "    <tr>\n",
       "      <th>3</th>\n",
       "      <td>ana</td>\n",
       "      <td>45</td>\n",
       "    </tr>\n",
       "    <tr>\n",
       "      <th>4</th>\n",
       "      <td>maria</td>\n",
       "      <td>60</td>\n",
       "    </tr>\n",
       "    <tr>\n",
       "      <th>5</th>\n",
       "      <td>victor</td>\n",
       "      <td>70</td>\n",
       "    </tr>\n",
       "  </tbody>\n",
       "</table>\n",
       "</div>"
      ],
      "text/plain": [
       "      nome  idade\n",
       "0     josé     30\n",
       "1  gabriel     25\n",
       "2    lucas     15\n",
       "3      ana     45\n",
       "4    maria     60\n",
       "5   victor     70"
      ]
     },
     "execution_count": 17,
     "metadata": {},
     "output_type": "execute_result"
    }
   ],
   "source": [
    "# podemos adicionar nomes para os cabeçalhos\n",
    "arquivo = pd.read_csv('dados.csv', delimiter=';', header=None, names=['nome', 'idade'])\n",
    "arquivo"
   ]
  },
  {
   "cell_type": "markdown",
   "metadata": {},
   "source": [
    "## Método read_json()\n",
    "- Lê arquivos no formato JSON \n",
    "- Coloca os dados em um formato tabular chamado DataFrame"
   ]
  },
  {
   "cell_type": "code",
   "execution_count": 18,
   "metadata": {},
   "outputs": [
    {
     "data": {
      "text/html": [
       "<div>\n",
       "<style scoped>\n",
       "    .dataframe tbody tr th:only-of-type {\n",
       "        vertical-align: middle;\n",
       "    }\n",
       "\n",
       "    .dataframe tbody tr th {\n",
       "        vertical-align: top;\n",
       "    }\n",
       "\n",
       "    .dataframe thead th {\n",
       "        text-align: right;\n",
       "    }\n",
       "</style>\n",
       "<table border=\"1\" class=\"dataframe\">\n",
       "  <thead>\n",
       "    <tr style=\"text-align: right;\">\n",
       "      <th></th>\n",
       "      <th>nome</th>\n",
       "      <th>idade</th>\n",
       "    </tr>\n",
       "  </thead>\n",
       "  <tbody>\n",
       "    <tr>\n",
       "      <th>0</th>\n",
       "      <td>José</td>\n",
       "      <td>25</td>\n",
       "    </tr>\n",
       "    <tr>\n",
       "      <th>1</th>\n",
       "      <td>Maria</td>\n",
       "      <td>19</td>\n",
       "    </tr>\n",
       "    <tr>\n",
       "      <th>2</th>\n",
       "      <td>Gabriel</td>\n",
       "      <td>21</td>\n",
       "    </tr>\n",
       "    <tr>\n",
       "      <th>3</th>\n",
       "      <td>Lucas</td>\n",
       "      <td>16</td>\n",
       "    </tr>\n",
       "  </tbody>\n",
       "</table>\n",
       "</div>"
      ],
      "text/plain": [
       "      nome  idade\n",
       "0     José     25\n",
       "1    Maria     19\n",
       "2  Gabriel     21\n",
       "3    Lucas     16"
      ]
     },
     "execution_count": 18,
     "metadata": {},
     "output_type": "execute_result"
    }
   ],
   "source": [
    "arquivo = pd.read_json('dados.json')\n",
    "arquivo"
   ]
  },
  {
   "cell_type": "markdown",
   "metadata": {},
   "source": [
    "## Salvando um arquivo com o Pandas"
   ]
  },
  {
   "cell_type": "code",
   "execution_count": 19,
   "metadata": {},
   "outputs": [],
   "source": [
    "# o index=False é para que não seja salvo no arquivo o index criado pelo pandas\n",
    "arquivo.to_csv('dados_json_em_csv.csv', index=False)"
   ]
  },
  {
   "cell_type": "code",
   "execution_count": null,
   "metadata": {},
   "outputs": [],
   "source": []
  }
 ],
 "metadata": {
  "kernelspec": {
   "display_name": "base",
   "language": "python",
   "name": "python3"
  },
  "language_info": {
   "codemirror_mode": {
    "name": "ipython",
    "version": 3
   },
   "file_extension": ".py",
   "mimetype": "text/x-python",
   "name": "python",
   "nbconvert_exporter": "python",
   "pygments_lexer": "ipython3",
   "version": "3.11.7"
  }
 },
 "nbformat": 4,
 "nbformat_minor": 2
}
