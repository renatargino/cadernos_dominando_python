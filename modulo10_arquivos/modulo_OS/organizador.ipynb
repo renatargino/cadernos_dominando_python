{
 "cells": [
  {
   "cell_type": "code",
   "execution_count": 1,
   "metadata": {},
   "outputs": [],
   "source": [
    "import os\n",
    "import pandas as pd"
   ]
  },
  {
   "cell_type": "code",
   "execution_count": 2,
   "metadata": {},
   "outputs": [],
   "source": [
    "os.chdir(r\"D:\\Downloads\")"
   ]
  },
  {
   "cell_type": "code",
   "execution_count": 6,
   "metadata": {},
   "outputs": [
    {
     "data": {
      "text/plain": [
       "[\"00040000000CF500 Dragon Quest Monsters 2_ Cobi and Tara's M. M. Key (ENGLISH PATCH - v1.0) (CTR-P-BDMJ) (v1.0.0) (J).standard.cia\",\n",
       " '36710952886-IRPF-A-2024-2023-ORIGI.DEC',\n",
       " '36710952886-IRPF-A-2024-2023-ORIGI.REC',\n",
       " '8BitDo-Ultimate-Software-for-Windows.zip',\n",
       " '940721_2047_Godzilla.Minus.One.2023.Japanese.2160p.Blu-Ray.REMUX.DD5.1TrueHD.7.1.Atmos.HDR.HEVC-TheBiscuitMan.srt',\n",
       " 'ArcInstaller.exe',\n",
       " 'boletoFaculdadeJunho2024pdf.pdf',\n",
       " 'Captura de tela 2024-05-18 155908.png',\n",
       " 'Captura de tela 2024-05-20 212848.png',\n",
       " 'CrystalDiskInfo9_3_0Aoi.exe',\n",
       " 'dqxclarity',\n",
       " \"Frank Herbert's Dune Saga Collection_ Books 1 - 6 .epub\",\n",
       " 'history-week.csv',\n",
       " 'IRPF-2024.pdf',\n",
       " 'IRPF2022',\n",
       " 'IRPF2023',\n",
       " 'I_PITBDadosI.pdf',\n",
       " 'Jogos para separar',\n",
       " 'listas.ipynb',\n",
       " 'masqmoto.bmp',\n",
       " 'masquerena.bmp',\n",
       " 'masquerena.pfi',\n",
       " 'material_modulo09.zip',\n",
       " 'material_modulo10.zip',\n",
       " 'Modelo Carta de Apresentação.docx',\n",
       " 'Modern-20240528T000829Z-001.zip',\n",
       " 'Nova pasta',\n",
       " 'NUT',\n",
       " 'ogrArqComp3.pdf',\n",
       " 'ogrArqComp4.pdf',\n",
       " 'ogrArqComp5.pdf',\n",
       " 'ogrArqComp5marc.pdf',\n",
       " 'ogrArqComp5_11.png',\n",
       " 'Omega_Installer-Windows.exe',\n",
       " 'Organizar',\n",
       " 'Organize.bat',\n",
       " 'Photofiltre',\n",
       " 'PIT_atividade.docx',\n",
       " 'PIT_atividade_Renato_Targino.docx',\n",
       " 'PIT_atividade_Renato_Targino.pdf',\n",
       " 'Relatório de Entrega Atividades de Extensão.docx',\n",
       " 'Relatório de Entrega de Atividades de Extensão.old.docx',\n",
       " 'Relatório de Entrega de Atividades Extensionistas atual.docx',\n",
       " 'Stream-20240528T001000Z-001.zip',\n",
       " 'Super Mario RPG [0100BC0018138000][v0] (6.40 GB).nsz',\n",
       " 'Temp',\n",
       " 'template.pug',\n",
       " 'themes',\n",
       " 'titledb',\n",
       " 'Top-20240528T001716Z-001.zip',\n",
       " 'Torrents',\n",
       " 'Trigun',\n",
       " 'Unicorn Overlord [NSZ]',\n",
       " 'visualg3.0.7',\n",
       " 'YDK',\n",
       " '_NSPOUT']"
      ]
     },
     "execution_count": 6,
     "metadata": {},
     "output_type": "execute_result"
    }
   ],
   "source": [
    "os.listdir()"
   ]
  },
  {
   "cell_type": "code",
   "execution_count": 71,
   "metadata": {},
   "outputs": [],
   "source": [
    "def lista_extencao(caminho):\n",
    "    os.chdir(caminho)\n",
    "    lista_ext = []\n",
    "    for arquivo in os.listdir():\n",
    "        if os.path.isfile(os.path.join(os.getcwd(), arquivo)):\n",
    "            lista_ext.append(arquivo[-3:]) if arquivo[-3:] not in lista_ext else None\n",
    "    return lista_ext"
   ]
  },
  {
   "cell_type": "code",
   "execution_count": 72,
   "metadata": {},
   "outputs": [
    {
     "data": {
      "text/plain": [
       "['cia',\n",
       " 'DEC',\n",
       " 'REC',\n",
       " 'zip',\n",
       " 'srt',\n",
       " 'exe',\n",
       " 'pdf',\n",
       " 'png',\n",
       " 'pub',\n",
       " 'csv',\n",
       " 'ynb',\n",
       " 'bmp',\n",
       " 'pfi',\n",
       " 'ocx',\n",
       " 'bat',\n",
       " 'nsz',\n",
       " 'pug']"
      ]
     },
     "execution_count": 72,
     "metadata": {},
     "output_type": "execute_result"
    }
   ],
   "source": [
    "lista_extencao(os.getcwd())"
   ]
  },
  {
   "cell_type": "code",
   "execution_count": 91,
   "metadata": {},
   "outputs": [],
   "source": [
    "lista_arquivos = [arquivo.lower() for arquivo in os.listdir() if os.path.isfile(arquivo)]"
   ]
  },
  {
   "cell_type": "code",
   "execution_count": 92,
   "metadata": {},
   "outputs": [
    {
     "data": {
      "text/plain": [
       "[\"00040000000cf500 dragon quest monsters 2_ cobi and tara's m. m. key (english patch - v1.0) (ctr-p-bdmj) (v1.0.0) (j).standard.cia\",\n",
       " '8bitdo-ultimate-software-for-windows.zip',\n",
       " '940721_2047_godzilla.minus.one.2023.japanese.2160p.blu-ray.remux.dd5.1truehd.7.1.atmos.hdr.hevc-thebiscuitman.srt',\n",
       " 'arcinstaller.exe',\n",
       " 'boletofaculdadejunho2024pdf.pdf',\n",
       " 'captura de tela 2024-05-18 155908.png',\n",
       " 'captura de tela 2024-05-20 212848.png',\n",
       " 'crystaldiskinfo9_3_0aoi.exe',\n",
       " \"frank herbert's dune saga collection_ books 1 - 6 .epub\",\n",
       " 'history-week.csv',\n",
       " 'irpf-2024.pdf',\n",
       " 'i_pitbdadosi.pdf',\n",
       " 'listas.ipynb',\n",
       " 'masqmoto.bmp',\n",
       " 'masquerena.bmp',\n",
       " 'masquerena.pfi',\n",
       " 'material_modulo09.zip',\n",
       " 'material_modulo10.zip',\n",
       " 'modelo carta de apresentação.docx',\n",
       " 'modern-20240528t000829z-001.zip',\n",
       " 'ograrqcomp3.pdf',\n",
       " 'ograrqcomp4.pdf',\n",
       " 'ograrqcomp5.pdf',\n",
       " 'ograrqcomp5marc.pdf',\n",
       " 'ograrqcomp5_11.png',\n",
       " 'omega_installer-windows.exe',\n",
       " 'organize.bat',\n",
       " 'pit_atividade.docx',\n",
       " 'pit_atividade_renato_targino.docx',\n",
       " 'pit_atividade_renato_targino.pdf',\n",
       " 'relatório de entrega atividades de extensão.docx',\n",
       " 'relatório de entrega de atividades de extensão.old.docx',\n",
       " 'relatório de entrega de atividades extensionistas atual.docx',\n",
       " 'stream-20240528t001000z-001.zip',\n",
       " 'super mario rpg [0100bc0018138000][v0] (6.40 gb).nsz',\n",
       " 'template.pug',\n",
       " 'top-20240528t001716z-001.zip']"
      ]
     },
     "execution_count": 92,
     "metadata": {},
     "output_type": "execute_result"
    }
   ],
   "source": [
    "lista_arquivos"
   ]
  },
  {
   "cell_type": "code",
   "execution_count": 85,
   "metadata": {},
   "outputs": [],
   "source": [
    "lista_tipos = set([tipo.split(\".\")[-1] for tipo in lista_arquivos])"
   ]
  },
  {
   "cell_type": "code",
   "execution_count": 93,
   "metadata": {},
   "outputs": [],
   "source": [
    "# ou podemos fazer um set comprehension - os conjuntos(set) são usados por não permitir elementos duplicados\n",
    "lista_tipos = {tipo.split(\".\")[-1] for tipo in lista_arquivos}"
   ]
  },
  {
   "cell_type": "code",
   "execution_count": 94,
   "metadata": {},
   "outputs": [
    {
     "data": {
      "text/plain": [
       "{'bat',\n",
       " 'bmp',\n",
       " 'cia',\n",
       " 'csv',\n",
       " 'docx',\n",
       " 'epub',\n",
       " 'exe',\n",
       " 'ipynb',\n",
       " 'nsz',\n",
       " 'pdf',\n",
       " 'pfi',\n",
       " 'png',\n",
       " 'pug',\n",
       " 'srt',\n",
       " 'zip'}"
      ]
     },
     "execution_count": 94,
     "metadata": {},
     "output_type": "execute_result"
    }
   ],
   "source": [
    "lista_tipos"
   ]
  },
  {
   "cell_type": "code",
   "execution_count": 89,
   "metadata": {},
   "outputs": [],
   "source": [
    "for tipo in lista_tipos:\n",
    "    if os.path.exists(tipo):\n",
    "        pass\n",
    "    else:\n",
    "        os.mkdir(tipo)"
   ]
  },
  {
   "cell_type": "code",
   "execution_count": 100,
   "metadata": {},
   "outputs": [],
   "source": [
    "for arquivo in lista_arquivos:\n",
    "    pasta_destino = arquivo.split(\".\")[-1]\n",
    "    de = os.path.join(os.getcwd(), arquivo)\n",
    "    para = os.path.join(os.getcwd(), pasta_destino, arquivo)\n",
    "    if os.path.exists(de): \n",
    "        os.replace(de, para)"
   ]
  },
  {
   "cell_type": "code",
   "execution_count": null,
   "metadata": {},
   "outputs": [],
   "source": []
  },
  {
   "cell_type": "code",
   "execution_count": null,
   "metadata": {},
   "outputs": [],
   "source": []
  },
  {
   "cell_type": "code",
   "execution_count": null,
   "metadata": {},
   "outputs": [],
   "source": []
  },
  {
   "cell_type": "code",
   "execution_count": null,
   "metadata": {},
   "outputs": [],
   "source": []
  },
  {
   "cell_type": "code",
   "execution_count": null,
   "metadata": {},
   "outputs": [],
   "source": []
  },
  {
   "cell_type": "code",
   "execution_count": null,
   "metadata": {},
   "outputs": [],
   "source": []
  },
  {
   "cell_type": "code",
   "execution_count": null,
   "metadata": {},
   "outputs": [],
   "source": []
  }
 ],
 "metadata": {
  "kernelspec": {
   "display_name": "base",
   "language": "python",
   "name": "python3"
  },
  "language_info": {
   "codemirror_mode": {
    "name": "ipython",
    "version": 3
   },
   "file_extension": ".py",
   "mimetype": "text/x-python",
   "name": "python",
   "nbconvert_exporter": "python",
   "pygments_lexer": "ipython3",
   "version": "3.11.7"
  }
 },
 "nbformat": 4,
 "nbformat_minor": 2
}
