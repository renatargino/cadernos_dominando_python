{
 "cells": [
  {
   "cell_type": "markdown",
   "id": "7f79d6e4-8159-43d6-8f62-0b218155728f",
   "metadata": {},
   "source": [
    "# Estruturas de controle"
   ]
  },
  {
   "cell_type": "code",
   "execution_count": 4,
   "id": "0bbff3f3-7a37-4fc6-bca5-f27bc9565013",
   "metadata": {},
   "outputs": [
    {
     "name": "stdout",
     "output_type": "stream",
     "text": [
      "0\n",
      "1\n",
      "2\n",
      "3\n",
      "4\n",
      "5\n",
      "6\n",
      "7\n",
      "8\n",
      "9\n"
     ]
    }
   ],
   "source": [
    "# while\n",
    "# cria um loop de repetiçào até uma condição se tornar verdadeira\n",
    "\n",
    "contador = 0\n",
    "while contador < 10:\n",
    "    print(contador)\n",
    "    contador += 1\n",
    "#    contador = contador + 1"
   ]
  },
  {
   "cell_type": "code",
   "execution_count": 5,
   "id": "d6dce8dc-8d5c-4c19-90ea-36a6a1df6bf9",
   "metadata": {},
   "outputs": [
    {
     "name": "stdout",
     "output_type": "stream",
     "text": [
      "1\n",
      "2\n",
      "3\n",
      "4\n",
      "5\n",
      "6\n",
      "7\n",
      "8\n",
      "9\n"
     ]
    }
   ],
   "source": [
    "# for\n",
    "# iterar sobre objetos\n",
    "\n",
    "lista = [1,2,3,4,5,6,7,8,9]\n",
    "for numero in lista:\n",
    "    print(numero)"
   ]
  },
  {
   "cell_type": "code",
   "execution_count": 7,
   "id": "f73b0012-db36-4f36-8662-1b10dfd648fa",
   "metadata": {},
   "outputs": [
    {
     "name": "stdout",
     "output_type": "stream",
     "text": [
      "Minha roupa está molhada!\n"
     ]
    }
   ],
   "source": [
    "# if, else\n",
    "# realiza testes lógicos para entrar ou não em blocos de código\n",
    "\n",
    "chovendo = True\n",
    "if chovendo:\n",
    "    print('Minha roupa está molhada!')\n",
    "else:\n",
    "    print('Minha roupa está seca!')"
   ]
  },
  {
   "cell_type": "code",
   "execution_count": 8,
   "id": "94ba28ce-4969-4675-9905-db358ef9ba77",
   "metadata": {},
   "outputs": [
    {
     "name": "stdout",
     "output_type": "stream",
     "text": [
      "Minha roupa está molhada!\n"
     ]
    }
   ],
   "source": [
    "chovendo = True\n",
    "if chovendo:\n",
    "    print('Minha roupa está molhada!')"
   ]
  },
  {
   "cell_type": "markdown",
   "id": "76159363-9d44-4c16-a5d0-07e606c5a38d",
   "metadata": {},
   "source": [
    "# Funções"
   ]
  },
  {
   "cell_type": "code",
   "execution_count": 9,
   "id": "b18a8d4b-096d-4817-9a50-885c1d08f97b",
   "metadata": {},
   "outputs": [],
   "source": [
    "def minha_funcao():\n",
    "    print('Esta é a minha função!')"
   ]
  },
  {
   "cell_type": "code",
   "execution_count": 10,
   "id": "64d35b58-9844-4676-aa19-6113c9ecd7c9",
   "metadata": {},
   "outputs": [
    {
     "name": "stdout",
     "output_type": "stream",
     "text": [
      "Esta é a minha função!\n"
     ]
    }
   ],
   "source": [
    "minha_funcao()"
   ]
  },
  {
   "cell_type": "code",
   "execution_count": 12,
   "id": "b23a92cd-e27d-494e-abf4-27aa1d4e7439",
   "metadata": {},
   "outputs": [],
   "source": [
    "def oreno_funcao(nome):\n",
    "    return 'Meu nome é: ' + nome\n"
   ]
  },
  {
   "cell_type": "code",
   "execution_count": 13,
   "id": "0760ed7d-83d6-4223-8f38-6486282e41fd",
   "metadata": {},
   "outputs": [
    {
     "data": {
      "text/plain": [
       "'Meu nome é: Zoey'"
      ]
     },
     "execution_count": 13,
     "metadata": {},
     "output_type": "execute_result"
    }
   ],
   "source": [
    "oreno_funcao('Zoey')"
   ]
  },
  {
   "cell_type": "code",
   "execution_count": 16,
   "id": "609ea015-5f18-4938-aade-f58877089e66",
   "metadata": {},
   "outputs": [
    {
     "data": {
      "text/plain": [
       "'Meu nome é: 20'"
      ]
     },
     "execution_count": 16,
     "metadata": {},
     "output_type": "execute_result"
    }
   ],
   "source": [
    "oreno_funcao(str(20))"
   ]
  },
  {
   "cell_type": "code",
   "execution_count": 17,
   "id": "92444395-482b-4815-a344-b6eb3e7e1c3d",
   "metadata": {},
   "outputs": [],
   "source": [
    "# é possível passar um padrão para a função, se nada for passado como argumento, será executado o padrão\n",
    "def my_funcao(nome = 'Zoey'):\n",
    "    return 'Meu nome é: ' + nome"
   ]
  },
  {
   "cell_type": "code",
   "execution_count": 18,
   "id": "d7b0686e-7f60-463c-acaa-2505c70dc6c5",
   "metadata": {},
   "outputs": [
    {
     "data": {
      "text/plain": [
       "'Meu nome é: Zoey'"
      ]
     },
     "execution_count": 18,
     "metadata": {},
     "output_type": "execute_result"
    }
   ],
   "source": [
    "my_funcao()"
   ]
  },
  {
   "cell_type": "code",
   "execution_count": 19,
   "id": "7382f435-f281-439b-ac05-5875cecfa159",
   "metadata": {},
   "outputs": [
    {
     "data": {
      "text/plain": [
       "'Meu nome é: Jack'"
      ]
     },
     "execution_count": 19,
     "metadata": {},
     "output_type": "execute_result"
    }
   ],
   "source": [
    "my_funcao('Jack')"
   ]
  },
  {
   "cell_type": "code",
   "execution_count": null,
   "id": "99cb79e8-a3d1-4ee0-b94c-98c65464720e",
   "metadata": {},
   "outputs": [],
   "source": []
  },
  {
   "cell_type": "code",
   "execution_count": null,
   "id": "2a9c1c1e-932a-4467-9e81-8892b9e461de",
   "metadata": {},
   "outputs": [],
   "source": []
  },
  {
   "cell_type": "code",
   "execution_count": null,
   "id": "8a687fb6-f72d-4b86-94f1-b114752be51a",
   "metadata": {},
   "outputs": [],
   "source": []
  }
 ],
 "metadata": {
  "kernelspec": {
   "display_name": "Python 3 (ipykernel)",
   "language": "python",
   "name": "python3"
  },
  "language_info": {
   "codemirror_mode": {
    "name": "ipython",
    "version": 3
   },
   "file_extension": ".py",
   "mimetype": "text/x-python",
   "name": "python",
   "nbconvert_exporter": "python",
   "pygments_lexer": "ipython3",
   "version": "3.11.7"
  }
 },
 "nbformat": 4,
 "nbformat_minor": 5
}
