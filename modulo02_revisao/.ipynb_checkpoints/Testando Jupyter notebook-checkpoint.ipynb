{
 "cells": [
  {
   "cell_type": "markdown",
   "id": "d73f80c2-33b2-4396-bff6-63567673bf77",
   "metadata": {},
   "source": [
    "# Transmformar célula em texto: M ao selecionar a célula"
   ]
  },
  {
   "cell_type": "code",
   "execution_count": 1,
   "id": "a38cc98a-d7cc-4077-a81c-85725d88b064",
   "metadata": {},
   "outputs": [
    {
     "name": "stdout",
     "output_type": "stream",
     "text": [
      "Testando o ambiente Jupyter notebook\n"
     ]
    }
   ],
   "source": [
    "print(\"Testando o ambiente Jupyter notebook\")"
   ]
  },
  {
   "cell_type": "markdown",
   "id": "c34b5200-ceaa-47c1-9e14-63dc386abb29",
   "metadata": {},
   "source": [
    "# Textos\n",
    "## Títulos\n",
    "### títulos\n",
    "\n",
    "- teste1\n",
    "- teste2\n",
    "- teste3"
   ]
  },
  {
   "cell_type": "markdown",
   "id": "8d813c5f-a563-4446-8f44-8536cc030b5f",
   "metadata": {},
   "source": [
    " dd apaga a célula\n",
    "\n",
    " a adiciona célula acima\n",
    " b adiciona célula abaixo"
   ]
  },
  {
   "cell_type": "markdown",
   "id": "f495c02c-c119-4977-9e75-04a88bf1e74e",
   "metadata": {},
   "source": [
    "esc para sair da seleção \n",
    "y para transformar célula em código\n",
    "m para transformar em texto"
   ]
  },
  {
   "cell_type": "code",
   "execution_count": null,
   "id": "b4c32757-f73a-43ed-b0d2-cabd8093bb85",
   "metadata": {},
   "outputs": [],
   "source": []
  }
 ],
 "metadata": {
  "kernelspec": {
   "display_name": "Python 3 (ipykernel)",
   "language": "python",
   "name": "python3"
  },
  "language_info": {
   "codemirror_mode": {
    "name": "ipython",
    "version": 3
   },
   "file_extension": ".py",
   "mimetype": "text/x-python",
   "name": "python",
   "nbconvert_exporter": "python",
   "pygments_lexer": "ipython3",
   "version": "3.11.7"
  }
 },
 "nbformat": 4,
 "nbformat_minor": 5
}
