{
 "cells": [
  {
   "cell_type": "markdown",
   "id": "70f40f23-ba75-4112-bfbd-adacbe1e6b82",
   "metadata": {},
   "source": [
    "# Operadores\n"
   ]
  },
  {
   "cell_type": "code",
   "execution_count": 3,
   "id": "33bcf163-7686-4c96-9d05-6d96458968d6",
   "metadata": {},
   "outputs": [
    {
     "name": "stdout",
     "output_type": "stream",
     "text": [
      "3\n",
      "5\n",
      "5.0\n",
      "3\n",
      "1\n",
      "100\n",
      "1000\n"
     ]
    }
   ],
   "source": [
    "# aritméticos\n",
    "\n",
    "#soma\n",
    "print(1 + 2)\n",
    "\n",
    "# subtração\n",
    "print(10 - 5)\n",
    "\n",
    "# divisão\n",
    "print(10 / 2)\n",
    "\n",
    "# divisão (parte inteira)\n",
    "print(10//3)\n",
    "\n",
    "# módulo (resto de uma divisão)\n",
    "print(10 % 3)\n",
    "\n",
    "# multiplicação\n",
    "print(10 * 10)\n",
    "\n",
    "# exponenciação\n",
    "print(10 ** 3)"
   ]
  },
  {
   "cell_type": "markdown",
   "id": "7c792d75-14ca-4d35-a91b-f79c308cea9c",
   "metadata": {},
   "source": [
    "## Relacionais"
   ]
  },
  {
   "cell_type": "code",
   "execution_count": 6,
   "id": "9f669c74-c8f3-4fbc-8469-90d149fc788b",
   "metadata": {},
   "outputs": [
    {
     "name": "stdout",
     "output_type": "stream",
     "text": [
      "True\n",
      "False\n",
      "True\n",
      "True\n",
      "True\n",
      "True\n"
     ]
    }
   ],
   "source": [
    "# igualdade\n",
    "print(10 == 10)\n",
    "\n",
    "# maior que\n",
    "print(10 > 40)\n",
    "\n",
    "#menor que\n",
    "print(10 < 40)\n",
    "\n",
    "# maior igual que\n",
    "print(10 >= 10)\n",
    "\n",
    "# menor igual que\n",
    "print(10 <= 20)\n",
    "\n",
    "# diferente\n",
    "print(100 != 1000)"
   ]
  },
  {
   "cell_type": "markdown",
   "id": "56a397ac-8522-47c2-8bda-dc89e1b016c5",
   "metadata": {},
   "source": [
    "## lógicos (AND, OR, NOT)"
   ]
  },
  {
   "cell_type": "code",
   "execution_count": 9,
   "id": "1d78bddd-63b9-46d7-9441-44408486ced8",
   "metadata": {},
   "outputs": [
    {
     "name": "stdout",
     "output_type": "stream",
     "text": [
      "True\n",
      "True\n",
      "True\n"
     ]
    }
   ],
   "source": [
    "# AND\n",
    "print(10 > 9 and 10 < 100)\n",
    "\n",
    "# OR\n",
    "print(10 > 1000 or 10 < 100)\n",
    "\n",
    "# NOT\n",
    "print(not 10 > 1000)"
   ]
  },
  {
   "cell_type": "markdown",
   "id": "f0b4bb5c-d69d-491f-bf2b-87b170210117",
   "metadata": {},
   "source": [
    "## Operadores podem ser:"
   ]
  },
  {
   "cell_type": "code",
   "execution_count": 10,
   "id": "a0187386-d034-4c91-9303-ff00a7f77486",
   "metadata": {},
   "outputs": [
    {
     "data": {
      "text/plain": [
       "False"
      ]
     },
     "execution_count": 10,
     "metadata": {},
     "output_type": "execute_result"
    }
   ],
   "source": [
    "# unários \n",
    "# só precisam de um operando\n",
    "not True\n"
   ]
  },
  {
   "cell_type": "code",
   "execution_count": 11,
   "id": "5433ab9f-2372-443c-a15f-d5229ea23c04",
   "metadata": {},
   "outputs": [
    {
     "name": "stdout",
     "output_type": "stream",
     "text": [
      "11\n"
     ]
    }
   ],
   "source": [
    "# binários\n",
    "# operador com dois operandos\n",
    "print(1 + 10)"
   ]
  },
  {
   "cell_type": "code",
   "execution_count": 15,
   "id": "8d8c0278-73e8-4289-82fe-82d9d3a96c7f",
   "metadata": {},
   "outputs": [],
   "source": [
    "# ternários\n",
    "# utilizam 3 operandos\n",
    "chovendo = True\n",
    "frase = 'Minha roupa está ' + ('molhada!' if chovendo else 'seca!')"
   ]
  },
  {
   "cell_type": "code",
   "execution_count": 16,
   "id": "1347d5bd-5fda-4ef3-9ece-80703a2d5704",
   "metadata": {},
   "outputs": [
    {
     "name": "stdout",
     "output_type": "stream",
     "text": [
      "Minha roupa está molhada!\n"
     ]
    }
   ],
   "source": [
    "print(frase)"
   ]
  },
  {
   "cell_type": "code",
   "execution_count": null,
   "id": "e3bf90aa-1f8e-4dab-ac2e-8d621dd228b1",
   "metadata": {},
   "outputs": [],
   "source": []
  },
  {
   "cell_type": "code",
   "execution_count": null,
   "id": "740672a7-b6ef-4f6e-bfb5-056368e5291c",
   "metadata": {},
   "outputs": [],
   "source": []
  },
  {
   "cell_type": "code",
   "execution_count": null,
   "id": "923f06cc-41db-46f0-989d-10b55bdac8a6",
   "metadata": {},
   "outputs": [],
   "source": []
  },
  {
   "cell_type": "code",
   "execution_count": null,
   "id": "58bd41f1-7f85-4e11-9390-42fd068ff453",
   "metadata": {},
   "outputs": [],
   "source": []
  },
  {
   "cell_type": "code",
   "execution_count": null,
   "id": "23b9e3d2-2e04-47b9-899d-4939bc0e0b4c",
   "metadata": {},
   "outputs": [],
   "source": []
  },
  {
   "cell_type": "code",
   "execution_count": null,
   "id": "98913724-bf24-4436-9f75-7fa28c6e289c",
   "metadata": {},
   "outputs": [],
   "source": []
  }
 ],
 "metadata": {
  "kernelspec": {
   "display_name": "Python 3 (ipykernel)",
   "language": "python",
   "name": "python3"
  },
  "language_info": {
   "codemirror_mode": {
    "name": "ipython",
    "version": 3
   },
   "file_extension": ".py",
   "mimetype": "text/x-python",
   "name": "python",
   "nbconvert_exporter": "python",
   "pygments_lexer": "ipython3",
   "version": "3.11.7"
  }
 },
 "nbformat": 4,
 "nbformat_minor": 5
}
