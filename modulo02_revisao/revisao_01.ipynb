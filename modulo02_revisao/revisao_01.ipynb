{
 "cells": [
  {
   "cell_type": "markdown",
   "id": "9dea8a63-e152-4737-ad68-b89326223681",
   "metadata": {},
   "source": [
    "# Revisão: conceitos básicos"
   ]
  },
  {
   "cell_type": "code",
   "execution_count": 8,
   "id": "95fbf0ab-7252-46d5-9822-7822dfb5e79b",
   "metadata": {},
   "outputs": [
    {
     "name": "stdout",
     "output_type": "stream",
     "text": [
      "Renato\n"
     ]
    },
    {
     "data": {
      "text/plain": [
       "str"
      ]
     },
     "execution_count": 8,
     "metadata": {},
     "output_type": "execute_result"
    }
   ],
   "source": [
    "# variáveis\n",
    "# espaços reservados na memória para guardar um valor\n",
    "\n",
    "nome_aluno = 'Renato'\n",
    "\n",
    "print(nome_aluno)\n",
    "\n",
    "type(nome_aluno)"
   ]
  },
  {
   "cell_type": "code",
   "execution_count": 4,
   "id": "ef0a5702-dbc3-48cd-827a-4a42360e707a",
   "metadata": {},
   "outputs": [
    {
     "name": "stdout",
     "output_type": "stream",
     "text": [
      "123.44\n",
      "<class 'float'>\n"
     ]
    }
   ],
   "source": [
    "numero = 123.44\n",
    "print(numero)\n",
    "print(type(numero))"
   ]
  },
  {
   "cell_type": "markdown",
   "id": "8d61cc8a-4ae7-49cb-bdb1-e5cf485e5494",
   "metadata": {},
   "source": [
    "# tipos de dados"
   ]
  },
  {
   "cell_type": "code",
   "execution_count": 6,
   "id": "bba9cabb-fc99-4021-a548-8ad6e9a2fc2e",
   "metadata": {},
   "outputs": [
    {
     "name": "stdout",
     "output_type": "stream",
     "text": [
      "<class 'str'>\n"
     ]
    }
   ],
   "source": [
    "# string\n",
    "print(type(nome_aluno))\n"
   ]
  },
  {
   "cell_type": "code",
   "execution_count": 7,
   "id": "0e714a80-6597-4305-86c7-5c0327618642",
   "metadata": {},
   "outputs": [
    {
     "name": "stdout",
     "output_type": "stream",
     "text": [
      "['__add__', '__class__', '__contains__', '__delattr__', '__dir__', '__doc__', '__eq__', '__format__', '__ge__', '__getattribute__', '__getitem__', '__getnewargs__', '__getstate__', '__gt__', '__hash__', '__init__', '__init_subclass__', '__iter__', '__le__', '__len__', '__lt__', '__mod__', '__mul__', '__ne__', '__new__', '__reduce__', '__reduce_ex__', '__repr__', '__rmod__', '__rmul__', '__setattr__', '__sizeof__', '__str__', '__subclasshook__', 'capitalize', 'casefold', 'center', 'count', 'encode', 'endswith', 'expandtabs', 'find', 'format', 'format_map', 'index', 'isalnum', 'isalpha', 'isascii', 'isdecimal', 'isdigit', 'isidentifier', 'islower', 'isnumeric', 'isprintable', 'isspace', 'istitle', 'isupper', 'join', 'ljust', 'lower', 'lstrip', 'maketrans', 'partition', 'removeprefix', 'removesuffix', 'replace', 'rfind', 'rindex', 'rjust', 'rpartition', 'rsplit', 'rstrip', 'split', 'splitlines', 'startswith', 'strip', 'swapcase', 'title', 'translate', 'upper', 'zfill']\n"
     ]
    }
   ],
   "source": [
    "print(dir(nome_aluno))"
   ]
  },
  {
   "cell_type": "code",
   "execution_count": 9,
   "id": "0924487d-3575-4e5b-90ee-07b9c6a48258",
   "metadata": {},
   "outputs": [
    {
     "data": {
      "text/plain": [
       "'Renato'"
      ]
     },
     "execution_count": 9,
     "metadata": {},
     "output_type": "execute_result"
    }
   ],
   "source": [
    "nome_aluno"
   ]
  },
  {
   "cell_type": "code",
   "execution_count": 10,
   "id": "6e760c9a-dea5-46cc-86cd-87df0e1af639",
   "metadata": {},
   "outputs": [
    {
     "data": {
      "text/plain": [
       "'Rxnato'"
      ]
     },
     "execution_count": 10,
     "metadata": {},
     "output_type": "execute_result"
    }
   ],
   "source": [
    "nome_aluno.replace('e', 'x')"
   ]
  },
  {
   "cell_type": "code",
   "execution_count": 11,
   "id": "a65fa312-e3d9-4ef5-b809-de1593557f1d",
   "metadata": {},
   "outputs": [
    {
     "name": "stdout",
     "output_type": "stream",
     "text": [
      "Help on method_descriptor:\n",
      "\n",
      "replace(self, old, new, count=-1, /)\n",
      "    Return a copy with all occurrences of substring old replaced by new.\n",
      "    \n",
      "      count\n",
      "        Maximum number of occurrences to replace.\n",
      "        -1 (the default value) means replace all occurrences.\n",
      "    \n",
      "    If the optional argument count is given, only the first count occurrences are\n",
      "    replaced.\n",
      "\n"
     ]
    }
   ],
   "source": [
    "help(str.replace)"
   ]
  },
  {
   "cell_type": "code",
   "execution_count": 14,
   "id": "de0ee1a3-a787-4d13-88e6-7dd1400bcea8",
   "metadata": {},
   "outputs": [
    {
     "name": "stdout",
     "output_type": "stream",
     "text": [
      "123.34\n",
      "<class 'float'>\n",
      "123\n",
      "<class 'int'>\n"
     ]
    }
   ],
   "source": [
    "# numéricos\n",
    "\n",
    "#float\n",
    "numero_float = 123.34\n",
    "print(numero_float)\n",
    "print(type(numero_float))\n",
    "\n",
    "#int\n",
    "numero_int=123\n",
    "print(numero_int)\n",
    "print(type(numero_int))\n"
   ]
  },
  {
   "cell_type": "code",
   "execution_count": 18,
   "id": "6fda13c6-5dcf-499c-bc27-3c155b7a81eb",
   "metadata": {},
   "outputs": [
    {
     "name": "stdout",
     "output_type": "stream",
     "text": [
      "57\n",
      "0b111001\n",
      "<class 'int'>\n"
     ]
    }
   ],
   "source": [
    "# binário \n",
    "# sempre começa com 0b\n",
    "binario = 0b111001\n",
    "print(binario)\n",
    "\n",
    "print(bin(57))\n",
    "print(type(binario))"
   ]
  },
  {
   "cell_type": "code",
   "execution_count": 20,
   "id": "394b5e97-6c7c-4104-abb1-4eaf19f38de2",
   "metadata": {},
   "outputs": [
    {
     "name": "stdout",
     "output_type": "stream",
     "text": [
      "156\n",
      "0o234\n",
      "<class 'int'>\n"
     ]
    }
   ],
   "source": [
    "# octal\n",
    "# começa com 0o\n",
    "octal = 0o234\n",
    "print(octal)\n",
    "print(oct(156))\n",
    "print(type(octal))"
   ]
  },
  {
   "cell_type": "code",
   "execution_count": 24,
   "id": "805f9aaf-cc2c-4d8b-ade1-8ba33b78dc28",
   "metadata": {},
   "outputs": [
    {
     "name": "stdout",
     "output_type": "stream",
     "text": [
      "(12+3j)\n",
      "<class 'complex'>\n"
     ]
    }
   ],
   "source": [
    "# numeros complexos\n",
    "# composto pela parte real e pela parte imaginária\n",
    "\n",
    "complexos = 12+3j\n",
    "print(complexos)\n",
    "print(type(complexos))\n"
   ]
  },
  {
   "cell_type": "code",
   "execution_count": 25,
   "id": "e5c636d6-9fe7-47fd-9c4d-13dbaddc2173",
   "metadata": {},
   "outputs": [
    {
     "data": {
      "text/plain": [
       "bool"
      ]
     },
     "execution_count": 25,
     "metadata": {},
     "output_type": "execute_result"
    }
   ],
   "source": [
    "# Booleanos\n",
    "teste = True\n",
    "type(teste)"
   ]
  },
  {
   "cell_type": "code",
   "execution_count": 26,
   "id": "a5e8a729-9ad5-4d0e-86ce-f6716060bf1b",
   "metadata": {},
   "outputs": [
    {
     "data": {
      "text/plain": [
       "NoneType"
      ]
     },
     "execution_count": 26,
     "metadata": {},
     "output_type": "execute_result"
    }
   ],
   "source": [
    "# indefinido --> None\n",
    "\n",
    "indefinido = None\n",
    "type(indefinido)"
   ]
  },
  {
   "cell_type": "code",
   "execution_count": null,
   "id": "9145555f-bd76-42b4-8249-d706c8eea71e",
   "metadata": {},
   "outputs": [],
   "source": []
  },
  {
   "cell_type": "code",
   "execution_count": null,
   "id": "569fe9a1-e83a-42f0-83f5-4eb93328ff2a",
   "metadata": {},
   "outputs": [],
   "source": []
  },
  {
   "cell_type": "code",
   "execution_count": null,
   "id": "61641f22-01c0-48c2-bd6a-db7fbfad88ea",
   "metadata": {},
   "outputs": [],
   "source": []
  },
  {
   "cell_type": "code",
   "execution_count": null,
   "id": "a9d01b66-22e5-4065-ab5e-fde566e7c559",
   "metadata": {},
   "outputs": [],
   "source": []
  }
 ],
 "metadata": {
  "kernelspec": {
   "display_name": "Python 3 (ipykernel)",
   "language": "python",
   "name": "python3"
  },
  "language_info": {
   "codemirror_mode": {
    "name": "ipython",
    "version": 3
   },
   "file_extension": ".py",
   "mimetype": "text/x-python",
   "name": "python",
   "nbconvert_exporter": "python",
   "pygments_lexer": "ipython3",
   "version": "3.11.7"
  }
 },
 "nbformat": 4,
 "nbformat_minor": 5
}
