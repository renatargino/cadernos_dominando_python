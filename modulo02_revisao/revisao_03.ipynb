{
 "cells": [
  {
   "cell_type": "markdown",
   "id": "19048cb9-671f-4d07-8459-d03f71fa5cf5",
   "metadata": {},
   "source": [
    "# Estruturas de dados"
   ]
  },
  {
   "cell_type": "code",
   "execution_count": 1,
   "id": "b76ae234-79fc-449c-9d8f-1c31b66bba72",
   "metadata": {},
   "outputs": [
    {
     "data": {
      "text/plain": [
       "list"
      ]
     },
     "execution_count": 1,
     "metadata": {},
     "output_type": "execute_result"
    }
   ],
   "source": [
    "# listas\n",
    "# elementos ordenados, mutáveis (podem ser alteradas, deletadas ou inseridas) e são utilizadas com []\n",
    "\n",
    "minha_lista = [1, 2.34, True, 'Renato', 'Mariana']\n",
    "type(minha_lista)\n"
   ]
  },
  {
   "cell_type": "code",
   "execution_count": 2,
   "id": "898dc7ba-9920-4c00-b5d2-b8e0daf32831",
   "metadata": {},
   "outputs": [
    {
     "name": "stdout",
     "output_type": "stream",
     "text": [
      "['__add__', '__class__', '__class_getitem__', '__contains__', '__delattr__', '__delitem__', '__dir__', '__doc__', '__eq__', '__format__', '__ge__', '__getattribute__', '__getitem__', '__getstate__', '__gt__', '__hash__', '__iadd__', '__imul__', '__init__', '__init_subclass__', '__iter__', '__le__', '__len__', '__lt__', '__mul__', '__ne__', '__new__', '__reduce__', '__reduce_ex__', '__repr__', '__reversed__', '__rmul__', '__setattr__', '__setitem__', '__sizeof__', '__str__', '__subclasshook__', 'append', 'clear', 'copy', 'count', 'extend', 'index', 'insert', 'pop', 'remove', 'reverse', 'sort']\n"
     ]
    }
   ],
   "source": [
    "print(dir(minha_lista))"
   ]
  },
  {
   "cell_type": "code",
   "execution_count": 4,
   "id": "b05f6a31-0432-4f44-b9ea-527302ebce61",
   "metadata": {},
   "outputs": [],
   "source": [
    "# alterar um elemento da lista\n",
    "minha_lista[0] = 'Renat'"
   ]
  },
  {
   "cell_type": "code",
   "execution_count": 5,
   "id": "2239421f-0ec5-49ed-9c1f-4ef56533f4fe",
   "metadata": {},
   "outputs": [
    {
     "data": {
      "text/plain": [
       "['Renat', 2.34, True, 'Renato', 'Mariana']"
      ]
     },
     "execution_count": 5,
     "metadata": {},
     "output_type": "execute_result"
    }
   ],
   "source": [
    "minha_lista"
   ]
  },
  {
   "cell_type": "code",
   "execution_count": 7,
   "id": "134efcdd-2009-4d11-a721-5a8d66ec8a76",
   "metadata": {},
   "outputs": [
    {
     "data": {
      "text/plain": [
       "['Renat',\n",
       " 2.34,\n",
       " True,\n",
       " 'Renato',\n",
       " 'Mariana',\n",
       " 'Jupyter Notebook',\n",
       " 'Jupyter Notebook']"
      ]
     },
     "execution_count": 7,
     "metadata": {},
     "output_type": "execute_result"
    }
   ],
   "source": [
    "# adicionar elementos\n",
    "minha_lista.append('Jupyter Notebook')\n",
    "minha_lista"
   ]
  },
  {
   "cell_type": "code",
   "execution_count": 8,
   "id": "cf76ded1-7b40-4f74-9e52-92979da76418",
   "metadata": {},
   "outputs": [
    {
     "data": {
      "text/plain": [
       "'Jupyter Notebook'"
      ]
     },
     "execution_count": 8,
     "metadata": {},
     "output_type": "execute_result"
    }
   ],
   "source": [
    "# apagar elementos\n",
    "minha_lista.pop()"
   ]
  },
  {
   "cell_type": "code",
   "execution_count": 9,
   "id": "9f96ff63-324e-4777-8946-712710f9b207",
   "metadata": {},
   "outputs": [
    {
     "data": {
      "text/plain": [
       "['Renat', 2.34, True, 'Renato', 'Mariana', 'Jupyter Notebook']"
      ]
     },
     "execution_count": 9,
     "metadata": {},
     "output_type": "execute_result"
    }
   ],
   "source": [
    "minha_lista"
   ]
  },
  {
   "cell_type": "code",
   "execution_count": 10,
   "id": "32cedbd0-4ca4-4177-964c-cb251fec084d",
   "metadata": {},
   "outputs": [],
   "source": [
    "minha_lista.remove('Jupyter Notebook')"
   ]
  },
  {
   "cell_type": "code",
   "execution_count": 11,
   "id": "36070c3a-35ad-4724-bf92-e6cef4d1e447",
   "metadata": {},
   "outputs": [
    {
     "name": "stdout",
     "output_type": "stream",
     "text": [
      "Help on method_descriptor:\n",
      "\n",
      "remove(self, value, /)\n",
      "    Remove first occurrence of value.\n",
      "    \n",
      "    Raises ValueError if the value is not present.\n",
      "\n"
     ]
    }
   ],
   "source": [
    "help(list.remove)"
   ]
  },
  {
   "cell_type": "code",
   "execution_count": 12,
   "id": "afb400d5-2410-401f-9c2e-44b222961af2",
   "metadata": {},
   "outputs": [],
   "source": [
    "# tuplas\n",
    "# são imutáveis após a criação, são indexados (ordenados) e são criadas com ()\n",
    "\n",
    "minha_tupla = (1, 3, 4.5, 'Renato', 'Python')"
   ]
  },
  {
   "cell_type": "code",
   "execution_count": 13,
   "id": "01f3fdd2-e249-44ef-bbf2-13822584a266",
   "metadata": {},
   "outputs": [
    {
     "data": {
      "text/plain": [
       "tuple"
      ]
     },
     "execution_count": 13,
     "metadata": {},
     "output_type": "execute_result"
    }
   ],
   "source": [
    "type(minha_tupla)"
   ]
  },
  {
   "cell_type": "code",
   "execution_count": 14,
   "id": "75d67de6-0605-4569-be72-37cb6f94f325",
   "metadata": {},
   "outputs": [],
   "source": [
    "tupla_unico_elemento = (1)"
   ]
  },
  {
   "cell_type": "code",
   "execution_count": 15,
   "id": "9a2bb9fc-b37b-45ee-9fbe-80785c69559e",
   "metadata": {},
   "outputs": [
    {
     "data": {
      "text/plain": [
       "int"
      ]
     },
     "execution_count": 15,
     "metadata": {},
     "output_type": "execute_result"
    }
   ],
   "source": [
    "type(tupla_unico_elemento)"
   ]
  },
  {
   "cell_type": "code",
   "execution_count": 21,
   "id": "777560b1-8680-41f8-a275-e9bef2d07da7",
   "metadata": {},
   "outputs": [
    {
     "data": {
      "text/plain": [
       "tuple"
      ]
     },
     "execution_count": 21,
     "metadata": {},
     "output_type": "execute_result"
    }
   ],
   "source": [
    "# para criar uma com apenas um elemento, colocar uma vírgula -- não utilizar\n",
    "tupla_unico_elemento = (1,)\n",
    "type(tupla_unico_elemento)"
   ]
  },
  {
   "cell_type": "code",
   "execution_count": 20,
   "id": "d16a84dc-3892-49fc-bdfc-ea82e50a7637",
   "metadata": {},
   "outputs": [],
   "source": [
    "# é possível criar uma tupla sem os ()\n",
    "minha_segunda_tupla = 1, 2, 3, 4, 'Renato'"
   ]
  },
  {
   "cell_type": "code",
   "execution_count": 19,
   "id": "4551d455-238a-427d-8155-1a7b7cfcc579",
   "metadata": {},
   "outputs": [
    {
     "data": {
      "text/plain": [
       "tuple"
      ]
     },
     "execution_count": 19,
     "metadata": {},
     "output_type": "execute_result"
    }
   ],
   "source": [
    "type(minha_segunda_tupla)"
   ]
  },
  {
   "cell_type": "code",
   "execution_count": 22,
   "id": "9938f6de-3b84-4da7-a6b1-cf9354029fa2",
   "metadata": {},
   "outputs": [
    {
     "data": {
      "text/plain": [
       "(3, 4.5)"
      ]
     },
     "execution_count": 22,
     "metadata": {},
     "output_type": "execute_result"
    }
   ],
   "source": [
    "minha_tupla[1:3]"
   ]
  },
  {
   "cell_type": "code",
   "execution_count": 23,
   "id": "08339f47-fcb3-4607-a79a-9fdc08c447b3",
   "metadata": {},
   "outputs": [
    {
     "data": {
      "text/plain": [
       "'Renato'"
      ]
     },
     "execution_count": 23,
     "metadata": {},
     "output_type": "execute_result"
    }
   ],
   "source": [
    "minha_tupla[3]"
   ]
  },
  {
   "cell_type": "code",
   "execution_count": 33,
   "id": "08bbfb65-5ec0-49dc-8201-e5f00ecc5f4b",
   "metadata": {},
   "outputs": [],
   "source": [
    "# dicionários\n",
    "# são mutáveis, possuem um par (chave e valor), utilizados com {}\n",
    "\n",
    "meu_dicionario = {\n",
    "    'nome': 'Renato',\n",
    "    'linguagem': 'Python'\n",
    "}"
   ]
  },
  {
   "cell_type": "code",
   "execution_count": 25,
   "id": "9a486f8a-292a-442d-afec-fb3395a50860",
   "metadata": {},
   "outputs": [
    {
     "data": {
      "text/plain": [
       "{'nome': 'Renato', 'linguagem': 'Python'}"
      ]
     },
     "execution_count": 25,
     "metadata": {},
     "output_type": "execute_result"
    }
   ],
   "source": [
    "meu_dicionario"
   ]
  },
  {
   "cell_type": "code",
   "execution_count": 26,
   "id": "932aa2d8-472a-487c-8325-b1cf7ec54a98",
   "metadata": {},
   "outputs": [
    {
     "data": {
      "text/plain": [
       "dict"
      ]
     },
     "execution_count": 26,
     "metadata": {},
     "output_type": "execute_result"
    }
   ],
   "source": [
    "type(meu_dicionario)"
   ]
  },
  {
   "cell_type": "code",
   "execution_count": 28,
   "id": "ebf4a465-b46f-4514-99d9-943472a3feb6",
   "metadata": {},
   "outputs": [
    {
     "data": {
      "text/plain": [
       "dict_keys(['nome', 'linguagem'])"
      ]
     },
     "execution_count": 28,
     "metadata": {},
     "output_type": "execute_result"
    }
   ],
   "source": [
    "# chaves do dict\n",
    "meu_dicionario.keys()"
   ]
  },
  {
   "cell_type": "code",
   "execution_count": 30,
   "id": "1b45cbe6-ea5f-4b98-adf3-1ce168542c0d",
   "metadata": {},
   "outputs": [
    {
     "data": {
      "text/plain": [
       "dict_values(['Renato', 'Python'])"
      ]
     },
     "execution_count": 30,
     "metadata": {},
     "output_type": "execute_result"
    }
   ],
   "source": [
    "# valores do dict\n",
    "meu_dicionario.values()"
   ]
  },
  {
   "cell_type": "code",
   "execution_count": 32,
   "id": "6b824245-90a6-4b4d-835d-e51440b8f023",
   "metadata": {},
   "outputs": [
    {
     "data": {
      "text/plain": [
       "dict_items([('nome', 'Renato'), ('linguagem', 'Python')])"
      ]
     },
     "execution_count": 32,
     "metadata": {},
     "output_type": "execute_result"
    }
   ],
   "source": [
    "# itens\n",
    "meu_dicionario.items()"
   ]
  },
  {
   "cell_type": "code",
   "execution_count": 36,
   "id": "db697889-9b9a-41b1-8e08-1463c9c119c5",
   "metadata": {},
   "outputs": [],
   "source": [
    "# conjuntos (set)\n",
    "# criados com {}, não possuem pares de chave e valor. não podem ter elementos repetidos\n",
    "\n",
    "meu_conjunto = {1,2,3,4}"
   ]
  },
  {
   "cell_type": "code",
   "execution_count": 35,
   "id": "6f181d64-23d9-4b4f-8689-79a55cdc0d10",
   "metadata": {},
   "outputs": [
    {
     "data": {
      "text/plain": [
       "{1, 2, 3, 4}"
      ]
     },
     "execution_count": 35,
     "metadata": {},
     "output_type": "execute_result"
    }
   ],
   "source": [
    "meu_conjunto"
   ]
  },
  {
   "cell_type": "code",
   "execution_count": 37,
   "id": "d5975666-c372-44a4-8d47-675e48420887",
   "metadata": {},
   "outputs": [],
   "source": [
    "meu_conjunto = {1, 1, 1, 2, 2, 2, 4, 4, 4, 3, 3, 3}"
   ]
  },
  {
   "cell_type": "code",
   "execution_count": 38,
   "id": "5fa9cdba-0b6a-4c64-8cd0-cac2a3b710e9",
   "metadata": {},
   "outputs": [
    {
     "data": {
      "text/plain": [
       "{1, 2, 3, 4}"
      ]
     },
     "execution_count": 38,
     "metadata": {},
     "output_type": "execute_result"
    }
   ],
   "source": [
    "meu_conjunto"
   ]
  },
  {
   "cell_type": "code",
   "execution_count": null,
   "id": "3f22466e-fd1a-448a-8b8e-87a8525c9bc9",
   "metadata": {},
   "outputs": [],
   "source": []
  },
  {
   "cell_type": "code",
   "execution_count": null,
   "id": "44c95d7f-fba7-4114-a5e4-4a7b1dc2cea5",
   "metadata": {},
   "outputs": [],
   "source": []
  },
  {
   "cell_type": "code",
   "execution_count": null,
   "id": "cf78fac8-f276-4181-84a3-5f987d9a8c71",
   "metadata": {},
   "outputs": [],
   "source": []
  },
  {
   "cell_type": "code",
   "execution_count": null,
   "id": "b5907b80-d29c-4e3f-aff8-07d5d707389c",
   "metadata": {},
   "outputs": [],
   "source": []
  },
  {
   "cell_type": "code",
   "execution_count": null,
   "id": "ef764abf-832c-452c-ba04-9dc622ee12db",
   "metadata": {},
   "outputs": [],
   "source": []
  },
  {
   "cell_type": "code",
   "execution_count": null,
   "id": "e1480a08-dd5c-482f-b9b9-74515aa5d42b",
   "metadata": {},
   "outputs": [],
   "source": []
  },
  {
   "cell_type": "code",
   "execution_count": null,
   "id": "83c63232-9a3b-4ddb-af16-84f83529209e",
   "metadata": {},
   "outputs": [],
   "source": []
  },
  {
   "cell_type": "code",
   "execution_count": null,
   "id": "270266e6-a4db-4f66-a176-b31a02d2fd48",
   "metadata": {},
   "outputs": [],
   "source": []
  },
  {
   "cell_type": "code",
   "execution_count": null,
   "id": "28ac26dc-ed06-49df-86e9-4d70e2caaec5",
   "metadata": {},
   "outputs": [],
   "source": []
  }
 ],
 "metadata": {
  "kernelspec": {
   "display_name": "Python 3 (ipykernel)",
   "language": "python",
   "name": "python3"
  },
  "language_info": {
   "codemirror_mode": {
    "name": "ipython",
    "version": 3
   },
   "file_extension": ".py",
   "mimetype": "text/x-python",
   "name": "python",
   "nbconvert_exporter": "python",
   "pygments_lexer": "ipython3",
   "version": "3.11.7"
  }
 },
 "nbformat": 4,
 "nbformat_minor": 5
}
