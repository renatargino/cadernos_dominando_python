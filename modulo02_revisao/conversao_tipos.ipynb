{
 "cells": [
  {
   "cell_type": "markdown",
   "id": "1684d2cc-917c-439e-8e63-3c412c4a5df0",
   "metadata": {},
   "source": [
    "# Conversão de tipos (casting)"
   ]
  },
  {
   "cell_type": "code",
   "execution_count": 2,
   "id": "5aa7fd85-1511-4acf-bb62-c6f6d9559fce",
   "metadata": {},
   "outputs": [
    {
     "data": {
      "text/plain": [
       "6"
      ]
     },
     "execution_count": 2,
     "metadata": {},
     "output_type": "execute_result"
    }
   ],
   "source": [
    "3 + 3"
   ]
  },
  {
   "cell_type": "code",
   "execution_count": 5,
   "id": "7a5a8a8b-bf7b-4951-bdd9-37b92303211a",
   "metadata": {},
   "outputs": [
    {
     "data": {
      "text/plain": [
       "'Renato Targino'"
      ]
     },
     "execution_count": 5,
     "metadata": {},
     "output_type": "execute_result"
    }
   ],
   "source": [
    "'Renato ' + 'Targino'"
   ]
  },
  {
   "cell_type": "code",
   "execution_count": 6,
   "id": "521c499e-99cf-4510-854b-ab43954ff720",
   "metadata": {},
   "outputs": [
    {
     "data": {
      "text/plain": [
       "'33'"
      ]
     },
     "execution_count": 6,
     "metadata": {},
     "output_type": "execute_result"
    }
   ],
   "source": [
    "'3' + '3'"
   ]
  },
  {
   "cell_type": "code",
   "execution_count": 8,
   "id": "ba1a1c32-0999-4be3-bc03-1d82a9720dd1",
   "metadata": {},
   "outputs": [
    {
     "data": {
      "text/plain": [
       "6"
      ]
     },
     "execution_count": 8,
     "metadata": {},
     "output_type": "execute_result"
    }
   ],
   "source": [
    "3 + int('3')"
   ]
  },
  {
   "cell_type": "code",
   "execution_count": 27,
   "id": "3a6477de-6650-461b-86f4-22bb730640b5",
   "metadata": {},
   "outputs": [
    {
     "name": "stdout",
     "output_type": "stream",
     "text": [
      "0\n",
      "10\n",
      "1\n",
      "0\n"
     ]
    }
   ],
   "source": [
    "# Convertendo para int --> int()\n",
    "print(int('0'))\n",
    "\n",
    "# print(int('0.1')) retorna erro\n",
    "\n",
    "print(int(10.9))  # quando convertemos um float para int ele pega apenas a parte INTEIRA!\n",
    "\n",
    "print(int(True))\n",
    "\n",
    "print(int(False))"
   ]
  },
  {
   "cell_type": "code",
   "execution_count": 28,
   "id": "fb215580-bd99-4def-8b99-0ea55924221d",
   "metadata": {},
   "outputs": [
    {
     "name": "stdout",
     "output_type": "stream",
     "text": [
      "0.1\n",
      "10.0\n",
      "1.0\n",
      "0.0\n"
     ]
    }
   ],
   "source": [
    "# convertendo para float --> float()\n",
    "\n",
    "print(float('0.1'))\n",
    "print(float('10'))\n",
    "\n",
    "print(float(True))\n",
    "print(float(False))"
   ]
  },
  {
   "cell_type": "code",
   "execution_count": null,
   "id": "cc5a28d2-bfd6-49ee-b390-5c1dce4e9023",
   "metadata": {},
   "outputs": [],
   "source": [
    "# Convertendo para booleano --> bool()"
   ]
  },
  {
   "cell_type": "code",
   "execution_count": 20,
   "id": "7eedc1d5-7536-42b0-ae1d-ce4efaaf880a",
   "metadata": {},
   "outputs": [
    {
     "name": "stdout",
     "output_type": "stream",
     "text": [
      "True\n",
      "False\n",
      "True\n"
     ]
    }
   ],
   "source": [
    "print(bool(1))\n",
    "print(bool(0)) \n",
    "print(bool(-25)) # qualquer número diferente de 0 será True"
   ]
  },
  {
   "cell_type": "code",
   "execution_count": 22,
   "id": "c92ed787-8fea-4a25-b798-c881a11aad12",
   "metadata": {},
   "outputs": [
    {
     "name": "stdout",
     "output_type": "stream",
     "text": [
      "True\n",
      "False\n"
     ]
    }
   ],
   "source": [
    "print(bool(0.9))\n",
    "print(bool(0.0))"
   ]
  },
  {
   "cell_type": "code",
   "execution_count": 24,
   "id": "b19c4017-0a4d-4662-ba49-26f4d5d5fab4",
   "metadata": {},
   "outputs": [
    {
     "name": "stdout",
     "output_type": "stream",
     "text": [
      "True\n",
      "False\n"
     ]
    }
   ],
   "source": [
    "print(bool('Renato')) # quando se converte string, se ela não for vazia, se converte para True\n",
    "print(bool(''))"
   ]
  },
  {
   "cell_type": "code",
   "execution_count": null,
   "id": "a5546b1c-0cdd-45ee-9837-e5b47b417144",
   "metadata": {},
   "outputs": [],
   "source": [
    "# Convertendo para string --> str()"
   ]
  },
  {
   "cell_type": "code",
   "execution_count": 34,
   "id": "3c7bbfc2-f480-48a6-b6ac-547f535de543",
   "metadata": {},
   "outputs": [
    {
     "name": "stdout",
     "output_type": "stream",
     "text": [
      "10\n"
     ]
    }
   ],
   "source": [
    "print(str(10))"
   ]
  },
  {
   "cell_type": "code",
   "execution_count": 33,
   "id": "f506c82f-f24b-4554-afc7-3c678e4ce98e",
   "metadata": {},
   "outputs": [
    {
     "name": "stdout",
     "output_type": "stream",
     "text": [
      "12.3\n"
     ]
    }
   ],
   "source": [
    "print(str(12.3))"
   ]
  },
  {
   "cell_type": "markdown",
   "id": "2fccef6f-4db2-4f7b-9e72-d36cc60d8b88",
   "metadata": {},
   "source": [
    "# F- strings"
   ]
  },
  {
   "cell_type": "code",
   "execution_count": 32,
   "id": "910ca56b-5343-4683-8b92-26f0ef6e7d3f",
   "metadata": {},
   "outputs": [
    {
     "name": "stdout",
     "output_type": "stream",
     "text": [
      "O valor do número é 10\n"
     ]
    }
   ],
   "source": [
    "numero = 10\n",
    "print('O valor do número é ' + str(numero))"
   ]
  },
  {
   "cell_type": "code",
   "execution_count": 36,
   "id": "4cd3a9e2-9703-4aa5-ad65-832d7c2e6800",
   "metadata": {},
   "outputs": [
    {
     "name": "stdout",
     "output_type": "stream",
     "text": [
      "O valor do número é: 10\n"
     ]
    }
   ],
   "source": [
    "print(f'O valor do número é: {numero}')"
   ]
  },
  {
   "cell_type": "code",
   "execution_count": 37,
   "id": "f4477dd4-c5e7-49e3-af21-a1f134e66a3e",
   "metadata": {},
   "outputs": [],
   "source": [
    "# para f-strings não é necessário conversão prévia de tipos"
   ]
  },
  {
   "cell_type": "code",
   "execution_count": null,
   "id": "3a6d6add-48fc-4617-b291-fd4c0507d088",
   "metadata": {},
   "outputs": [],
   "source": []
  },
  {
   "cell_type": "code",
   "execution_count": null,
   "id": "9d7cdb75-62e5-4e38-a468-18464c126db9",
   "metadata": {},
   "outputs": [],
   "source": []
  },
  {
   "cell_type": "code",
   "execution_count": null,
   "id": "18af59a8-cec6-4a58-83d3-283e7bc3c202",
   "metadata": {},
   "outputs": [],
   "source": []
  },
  {
   "cell_type": "code",
   "execution_count": null,
   "id": "2e41491d-48d8-4815-843f-e5908b84627f",
   "metadata": {},
   "outputs": [],
   "source": []
  },
  {
   "cell_type": "code",
   "execution_count": null,
   "id": "d6abaa1c-cd60-4efb-8ffe-55ab70005932",
   "metadata": {},
   "outputs": [],
   "source": []
  },
  {
   "cell_type": "code",
   "execution_count": null,
   "id": "f8e12c0f-764b-49a1-9831-ab0f389ba324",
   "metadata": {},
   "outputs": [],
   "source": []
  },
  {
   "cell_type": "code",
   "execution_count": null,
   "id": "e80a797c-6bcc-47a1-a264-f035bfd944c6",
   "metadata": {},
   "outputs": [],
   "source": []
  },
  {
   "cell_type": "code",
   "execution_count": null,
   "id": "5e8fd3c9-178d-495b-a97e-ff841adc179a",
   "metadata": {},
   "outputs": [],
   "source": []
  },
  {
   "cell_type": "code",
   "execution_count": null,
   "id": "ea91c319-ad1e-4fca-9c22-7d7b3fd3e588",
   "metadata": {},
   "outputs": [],
   "source": []
  },
  {
   "cell_type": "code",
   "execution_count": null,
   "id": "ae60dea1-63f7-4cef-a396-e80762b5e93a",
   "metadata": {},
   "outputs": [],
   "source": []
  }
 ],
 "metadata": {
  "kernelspec": {
   "display_name": "Python 3 (ipykernel)",
   "language": "python",
   "name": "python3"
  },
  "language_info": {
   "codemirror_mode": {
    "name": "ipython",
    "version": 3
   },
   "file_extension": ".py",
   "mimetype": "text/x-python",
   "name": "python",
   "nbconvert_exporter": "python",
   "pygments_lexer": "ipython3",
   "version": "3.11.7"
  }
 },
 "nbformat": 4,
 "nbformat_minor": 5
}
