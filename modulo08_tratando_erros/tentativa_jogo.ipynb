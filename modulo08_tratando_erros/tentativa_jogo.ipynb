{
 "cells": [
  {
   "cell_type": "code",
   "execution_count": 14,
   "metadata": {},
   "outputs": [
    {
     "name": "stdout",
     "output_type": "stream",
     "text": [
      "*****************************************\n",
      "Seja bem vind0(a) ao jogo de adivinhação!\n",
      "*****************************************\n",
      "\n",
      "\n"
     ]
    },
    {
     "ename": "Exception",
     "evalue": "Este jogo não aceita outros números e/ou letras! Tente novamente!",
     "output_type": "error",
     "traceback": [
      "\u001b[1;31m---------------------------------------------------------------------------\u001b[0m",
      "\u001b[1;31mException\u001b[0m                                 Traceback (most recent call last)",
      "Cell \u001b[1;32mIn[14], line 16\u001b[0m\n\u001b[0;32m     14\u001b[0m     numero_escolhido \u001b[38;5;241m=\u001b[39m \u001b[38;5;28minput\u001b[39m(\u001b[38;5;124m'\u001b[39m\u001b[38;5;124mEscolha um número de 1 a 5: \u001b[39m\u001b[38;5;124m'\u001b[39m)\n\u001b[0;32m     15\u001b[0m     \u001b[38;5;28;01mif\u001b[39;00m numero_escolhido \u001b[38;5;129;01mnot\u001b[39;00m \u001b[38;5;129;01min\u001b[39;00m \u001b[38;5;28mrange\u001b[39m(\u001b[38;5;241m1\u001b[39m,\u001b[38;5;241m5\u001b[39m):\n\u001b[1;32m---> 16\u001b[0m         \u001b[38;5;28;01mraise\u001b[39;00m \u001b[38;5;167;01mException\u001b[39;00m(\u001b[38;5;124m'\u001b[39m\u001b[38;5;124mEste jogo não aceita outros números e/ou letras! Tente novamente!\u001b[39m\u001b[38;5;124m'\u001b[39m)\n\u001b[0;32m     17\u001b[0m     \u001b[38;5;28;01mcontinue\u001b[39;00m\n\u001b[0;32m     21\u001b[0m \u001b[38;5;28mprint\u001b[39m(\u001b[38;5;124mf\u001b[39m\u001b[38;5;124m'\u001b[39m\u001b[38;5;124mParabéns! Você descobriu que o número secreto era o \u001b[39m\u001b[38;5;132;01m{\u001b[39;00mnumero_secreto\u001b[38;5;132;01m}\u001b[39;00m\u001b[38;5;124m!\u001b[39m\u001b[38;5;124m'\u001b[39m)\n",
      "\u001b[1;31mException\u001b[0m: Este jogo não aceita outros números e/ou letras! Tente novamente!"
     ]
    }
   ],
   "source": [
    "# jogo da adivinhação\n",
    "from random import randint\n",
    "\n",
    "print('*****************************************')\n",
    "print('Seja bem vind0(a) ao jogo de adivinhação!')\n",
    "print('*****************************************')\n",
    "\n",
    "print('\\n')\n",
    "\n",
    "numero_secreto = randint(1,5)\n",
    "numero_escolhido = 0\n",
    "\n",
    "while numero_secreto != int(numero_escolhido):\n",
    "    numero_escolhido = input('Escolha um número de 1 a 5: ')\n",
    "    if numero_escolhido not in range(1,5):\n",
    "        raise Exception('Este jogo não aceita outros números e/ou letras! Tente novamente!')\n",
    "\n",
    "\n",
    "\n",
    "print(f'Parabéns! Você descobriu que o número secreto era o {numero_secreto}!')"
   ]
  },
  {
   "cell_type": "code",
   "execution_count": null,
   "metadata": {},
   "outputs": [],
   "source": []
  }
 ],
 "metadata": {
  "kernelspec": {
   "display_name": "base",
   "language": "python",
   "name": "python3"
  },
  "language_info": {
   "codemirror_mode": {
    "name": "ipython",
    "version": 3
   },
   "file_extension": ".py",
   "mimetype": "text/x-python",
   "name": "python",
   "nbconvert_exporter": "python",
   "pygments_lexer": "ipython3",
   "version": "3.11.7"
  }
 },
 "nbformat": 4,
 "nbformat_minor": 2
}
