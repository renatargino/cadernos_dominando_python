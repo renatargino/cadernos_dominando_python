{
 "cells": [
  {
   "cell_type": "markdown",
   "metadata": {},
   "source": [
    "# Tratando erros com o bloco `try...except`"
   ]
  },
  {
   "cell_type": "markdown",
   "metadata": {
    "vscode": {
     "languageId": "plaintext"
    }
   },
   "source": [
    "Formato\n",
    "\n",
    "- try:\n",
    "    - 'código que o python irá tentar executar'\n",
    "- except:\n",
    "    - 'código que será executado se ocorrer uma exceção'\n",
    "- else:\n",
    "    - 'código que será executado quando não ocorrer a exceção (opcional)'\n",
    "- finally:\n",
    "    - 'código que será sempre executado (opcional)'"
   ]
  },
  {
   "cell_type": "code",
   "execution_count": 2,
   "metadata": {},
   "outputs": [
    {
     "name": "stdout",
     "output_type": "stream",
     "text": [
      "Algum erro aconteceu!\n",
      "programa continua\n"
     ]
    }
   ],
   "source": [
    "try:\n",
    "    print(10/0)\n",
    "except:\n",
    "    print('Algum erro aconteceu!')\n",
    "\n",
    "print('programa continua')"
   ]
  },
  {
   "cell_type": "code",
   "execution_count": 3,
   "metadata": {},
   "outputs": [
    {
     "name": "stdout",
     "output_type": "stream",
     "text": [
      "Algum erro aconteceu!\n",
      "programa continua\n"
     ]
    }
   ],
   "source": [
    "try:\n",
    "    print(nome)\n",
    "except:\n",
    "    print('Algum erro aconteceu!')\n",
    "\n",
    "print('programa continua')"
   ]
  },
  {
   "cell_type": "code",
   "execution_count": 4,
   "metadata": {},
   "outputs": [
    {
     "name": "stdout",
     "output_type": "stream",
     "text": [
      "Você está tentando usar um objeto não declarado.\n",
      "programa continua\n"
     ]
    }
   ],
   "source": [
    "try:\n",
    "    print(nome)\n",
    "except NameError:\n",
    "    print('Você está tentando usar um objeto não declarado.')\n",
    "\n",
    "print('programa continua')"
   ]
  },
  {
   "cell_type": "code",
   "execution_count": 7,
   "metadata": {},
   "outputs": [
    {
     "name": "stdout",
     "output_type": "stream",
     "text": [
      "Você está tentando usar um objeto não declarado.\n",
      "programa continua\n"
     ]
    }
   ],
   "source": [
    "try:\n",
    "    print(nome)\n",
    "except NameError:\n",
    "    print('Você está tentando usar um objeto não declarado.')\n",
    "\n",
    "print('programa continua')"
   ]
  },
  {
   "cell_type": "code",
   "execution_count": 5,
   "metadata": {},
   "outputs": [
    {
     "name": "stdout",
     "output_type": "stream",
     "text": [
      "Ocorreu um erro que não é um NameError\n",
      "programa continua\n"
     ]
    }
   ],
   "source": [
    "try:\n",
    "    print(10/0)\n",
    "except NameError:\n",
    "    print('Você está tentando usar um objeto não declarado.')\n",
    "except:\n",
    "    print('Ocorreu um erro que não é um NameError')\n",
    "print('programa continua')"
   ]
  },
  {
   "cell_type": "code",
   "execution_count": 6,
   "metadata": {},
   "outputs": [
    {
     "name": "stdout",
     "output_type": "stream",
     "text": [
      "Você está tentando dividir um número por 0!\n",
      "programa continua\n"
     ]
    }
   ],
   "source": [
    "try:\n",
    "    print(10/0)\n",
    "except NameError:\n",
    "    print('Você está tentando usar um objeto não declarado.')\n",
    "except ZeroDivisionError:\n",
    "    print('Você está tentando dividir um número por 0!')\n",
    "print('programa continua')"
   ]
  },
  {
   "cell_type": "code",
   "execution_count": 9,
   "metadata": {},
   "outputs": [
    {
     "name": "stdout",
     "output_type": "stream",
     "text": [
      "Ocorreu o seguinte erro: division by zero\n"
     ]
    }
   ],
   "source": [
    "try:\n",
    "    print(10/0)\n",
    "except Exception as err:\n",
    "    print(f'Ocorreu o seguinte erro: {err}')"
   ]
  },
  {
   "cell_type": "code",
   "execution_count": 10,
   "metadata": {},
   "outputs": [
    {
     "name": "stdout",
     "output_type": "stream",
     "text": [
      "0\n",
      "1\n",
      "2\n",
      "3\n",
      "4\n",
      "5\n",
      "6\n",
      "7\n",
      "8\n",
      "9\n"
     ]
    }
   ],
   "source": [
    "try:\n",
    "    for i in range(10):\n",
    "        print(i)\n",
    "except:\n",
    "    print('Ocorreu um erro!')"
   ]
  },
  {
   "cell_type": "code",
   "execution_count": 13,
   "metadata": {},
   "outputs": [
    {
     "ename": "SyntaxError",
     "evalue": "invalid syntax (2655880680.py, line 2)",
     "output_type": "error",
     "traceback": [
      "\u001b[1;36m  Cell \u001b[1;32mIn[13], line 2\u001b[1;36m\u001b[0m\n\u001b[1;33m    fur i in rang(10):\u001b[0m\n\u001b[1;37m        ^\u001b[0m\n\u001b[1;31mSyntaxError\u001b[0m\u001b[1;31m:\u001b[0m invalid syntax\n"
     ]
    }
   ],
   "source": [
    "try:\n",
    "    fur i in rang(10):\n",
    "        print(i)\n",
    "except:\n",
    "    print('Ocorreu um erro!')\n",
    "\n",
    "# erro de sintaxe não é exceção, não é possível captar ele com o try except, só exceções são capturadas"
   ]
  },
  {
   "cell_type": "markdown",
   "metadata": {},
   "source": [
    "`else` e `finally`"
   ]
  },
  {
   "cell_type": "code",
   "execution_count": 14,
   "metadata": {},
   "outputs": [
    {
     "name": "stdout",
     "output_type": "stream",
     "text": [
      "Ocorreu um erro!\n"
     ]
    }
   ],
   "source": [
    "try:\n",
    "    print(10/0)\n",
    "except:\n",
    "    print('Ocorreu um erro!')\n",
    "    "
   ]
  },
  {
   "cell_type": "code",
   "execution_count": 17,
   "metadata": {},
   "outputs": [
    {
     "name": "stdout",
     "output_type": "stream",
     "text": [
      "Ocorreu um erro!\n",
      "programa continua...\n"
     ]
    }
   ],
   "source": [
    "try:\n",
    "    resultado = 10 / 0\n",
    "except:\n",
    "    print('Ocorreu um erro!')\n",
    "else: \n",
    "    print(resultado)\n",
    "\n",
    "print('programa continua...')"
   ]
  },
  {
   "cell_type": "code",
   "execution_count": 18,
   "metadata": {},
   "outputs": [
    {
     "name": "stdout",
     "output_type": "stream",
     "text": [
      "5.0\n",
      "programa continua...\n"
     ]
    }
   ],
   "source": [
    "try:\n",
    "    resultado = 10 / 2\n",
    "except:\n",
    "    print('Ocorreu um erro!')\n",
    "else: \n",
    "    print(resultado)\n",
    "\n",
    "print('programa continua...')"
   ]
  },
  {
   "cell_type": "code",
   "execution_count": 19,
   "metadata": {},
   "outputs": [
    {
     "name": "stdout",
     "output_type": "stream",
     "text": [
      "5.0\n",
      "código que sempre vai ser executado\n",
      "programa continua...\n"
     ]
    }
   ],
   "source": [
    "try:\n",
    "    resultado = 10 / 2\n",
    "except:\n",
    "    print('Ocorreu um erro!')\n",
    "else: \n",
    "    print(resultado)\n",
    "finally:\n",
    "    print('código que sempre vai ser executado')\n",
    "\n",
    "print('programa continua...')"
   ]
  },
  {
   "cell_type": "code",
   "execution_count": 20,
   "metadata": {},
   "outputs": [
    {
     "name": "stdout",
     "output_type": "stream",
     "text": [
      "Ocorreu um erro!\n",
      "código que sempre vai ser executado\n",
      "programa continua...\n"
     ]
    }
   ],
   "source": [
    "try:\n",
    "    resultado = 10 / 0\n",
    "except:\n",
    "    print('Ocorreu um erro!')\n",
    "else: \n",
    "    print(resultado)\n",
    "finally:\n",
    "    print('código que sempre vai ser executado')\n",
    "\n",
    "print('programa continua...')"
   ]
  },
  {
   "cell_type": "code",
   "execution_count": null,
   "metadata": {},
   "outputs": [],
   "source": []
  },
  {
   "cell_type": "code",
   "execution_count": null,
   "metadata": {},
   "outputs": [],
   "source": []
  },
  {
   "cell_type": "code",
   "execution_count": null,
   "metadata": {},
   "outputs": [],
   "source": []
  }
 ],
 "metadata": {
  "kernelspec": {
   "display_name": "base",
   "language": "python",
   "name": "python3"
  },
  "language_info": {
   "codemirror_mode": {
    "name": "ipython",
    "version": 3
   },
   "file_extension": ".py",
   "mimetype": "text/x-python",
   "name": "python",
   "nbconvert_exporter": "python",
   "pygments_lexer": "ipython3",
   "version": "3.11.7"
  }
 },
 "nbformat": 4,
 "nbformat_minor": 2
}
