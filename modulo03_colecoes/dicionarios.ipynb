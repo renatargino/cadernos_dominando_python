{
 "cells": [
  {
   "cell_type": "markdown",
   "metadata": {},
   "source": [
    "# Copiando dicionários\n",
    "Como o python trabalha com dicionários em memória\n"
   ]
  },
  {
   "cell_type": "code",
   "execution_count": 2,
   "metadata": {},
   "outputs": [],
   "source": [
    "dict_a = {\n",
    "    'nome': 'Zoey',\n",
    "    'tipo': 'Gato'\n",
    "}"
   ]
  },
  {
   "cell_type": "code",
   "execution_count": 6,
   "metadata": {},
   "outputs": [],
   "source": [
    "dict_b = dict_a # shallow copy\n",
    "\n",
    "dict_b = dict_a.copy() # deep copy"
   ]
  },
  {
   "cell_type": "code",
   "execution_count": 7,
   "metadata": {},
   "outputs": [],
   "source": [
    "dict_a.update({'status': 'querendo petisco'})"
   ]
  },
  {
   "cell_type": "code",
   "execution_count": 8,
   "metadata": {},
   "outputs": [
    {
     "name": "stdout",
     "output_type": "stream",
     "text": [
      "{'nome': 'Zoey', 'tipo': 'Gato', 'status': 'querendo petisco'}\n",
      "{'nome': 'Zoey', 'tipo': 'Gato'}\n"
     ]
    }
   ],
   "source": [
    "print(dict_a)\n",
    "print(dict_b)"
   ]
  },
  {
   "cell_type": "markdown",
   "metadata": {},
   "source": [
    "# Função dict()"
   ]
  },
  {
   "cell_type": "code",
   "execution_count": 9,
   "metadata": {},
   "outputs": [
    {
     "name": "stdout",
     "output_type": "stream",
     "text": [
      "Help on class dict in module builtins:\n",
      "\n",
      "class dict(object)\n",
      " |  dict() -> new empty dictionary\n",
      " |  dict(mapping) -> new dictionary initialized from a mapping object's\n",
      " |      (key, value) pairs\n",
      " |  dict(iterable) -> new dictionary initialized as if via:\n",
      " |      d = {}\n",
      " |      for k, v in iterable:\n",
      " |          d[k] = v\n",
      " |  dict(**kwargs) -> new dictionary initialized with the name=value pairs\n",
      " |      in the keyword argument list.  For example:  dict(one=1, two=2)\n",
      " |  \n",
      " |  Built-in subclasses:\n",
      " |      StgDict\n",
      " |  \n",
      " |  Methods defined here:\n",
      " |  \n",
      " |  __contains__(self, key, /)\n",
      " |      True if the dictionary has the specified key, else False.\n",
      " |  \n",
      " |  __delitem__(self, key, /)\n",
      " |      Delete self[key].\n",
      " |  \n",
      " |  __eq__(self, value, /)\n",
      " |      Return self==value.\n",
      " |  \n",
      " |  __ge__(self, value, /)\n",
      " |      Return self>=value.\n",
      " |  \n",
      " |  __getattribute__(self, name, /)\n",
      " |      Return getattr(self, name).\n",
      " |  \n",
      " |  __getitem__(...)\n",
      " |      x.__getitem__(y) <==> x[y]\n",
      " |  \n",
      " |  __gt__(self, value, /)\n",
      " |      Return self>value.\n",
      " |  \n",
      " |  __init__(self, /, *args, **kwargs)\n",
      " |      Initialize self.  See help(type(self)) for accurate signature.\n",
      " |  \n",
      " |  __ior__(self, value, /)\n",
      " |      Return self|=value.\n",
      " |  \n",
      " |  __iter__(self, /)\n",
      " |      Implement iter(self).\n",
      " |  \n",
      " |  __le__(self, value, /)\n",
      " |      Return self<=value.\n",
      " |  \n",
      " |  __len__(self, /)\n",
      " |      Return len(self).\n",
      " |  \n",
      " |  __lt__(self, value, /)\n",
      " |      Return self<value.\n",
      " |  \n",
      " |  __ne__(self, value, /)\n",
      " |      Return self!=value.\n",
      " |  \n",
      " |  __or__(self, value, /)\n",
      " |      Return self|value.\n",
      " |  \n",
      " |  __repr__(self, /)\n",
      " |      Return repr(self).\n",
      " |  \n",
      " |  __reversed__(self, /)\n",
      " |      Return a reverse iterator over the dict keys.\n",
      " |  \n",
      " |  __ror__(self, value, /)\n",
      " |      Return value|self.\n",
      " |  \n",
      " |  __setitem__(self, key, value, /)\n",
      " |      Set self[key] to value.\n",
      " |  \n",
      " |  __sizeof__(...)\n",
      " |      D.__sizeof__() -> size of D in memory, in bytes\n",
      " |  \n",
      " |  clear(...)\n",
      " |      D.clear() -> None.  Remove all items from D.\n",
      " |  \n",
      " |  copy(...)\n",
      " |      D.copy() -> a shallow copy of D\n",
      " |  \n",
      " |  get(self, key, default=None, /)\n",
      " |      Return the value for key if key is in the dictionary, else default.\n",
      " |  \n",
      " |  items(...)\n",
      " |      D.items() -> a set-like object providing a view on D's items\n",
      " |  \n",
      " |  keys(...)\n",
      " |      D.keys() -> a set-like object providing a view on D's keys\n",
      " |  \n",
      " |  pop(...)\n",
      " |      D.pop(k[,d]) -> v, remove specified key and return the corresponding value.\n",
      " |      \n",
      " |      If the key is not found, return the default if given; otherwise,\n",
      " |      raise a KeyError.\n",
      " |  \n",
      " |  popitem(self, /)\n",
      " |      Remove and return a (key, value) pair as a 2-tuple.\n",
      " |      \n",
      " |      Pairs are returned in LIFO (last-in, first-out) order.\n",
      " |      Raises KeyError if the dict is empty.\n",
      " |  \n",
      " |  setdefault(self, key, default=None, /)\n",
      " |      Insert key with a value of default if key is not in the dictionary.\n",
      " |      \n",
      " |      Return the value for key if key is in the dictionary, else default.\n",
      " |  \n",
      " |  update(...)\n",
      " |      D.update([E, ]**F) -> None.  Update D from dict/iterable E and F.\n",
      " |      If E is present and has a .keys() method, then does:  for k in E: D[k] = E[k]\n",
      " |      If E is present and lacks a .keys() method, then does:  for k, v in E: D[k] = v\n",
      " |      In either case, this is followed by: for k in F:  D[k] = F[k]\n",
      " |  \n",
      " |  values(...)\n",
      " |      D.values() -> an object providing a view on D's values\n",
      " |  \n",
      " |  ----------------------------------------------------------------------\n",
      " |  Class methods defined here:\n",
      " |  \n",
      " |  __class_getitem__(...) from builtins.type\n",
      " |      See PEP 585\n",
      " |  \n",
      " |  fromkeys(iterable, value=None, /) from builtins.type\n",
      " |      Create a new dictionary with keys from iterable and values set to value.\n",
      " |  \n",
      " |  ----------------------------------------------------------------------\n",
      " |  Static methods defined here:\n",
      " |  \n",
      " |  __new__(*args, **kwargs) from builtins.type\n",
      " |      Create and return a new object.  See help(type) for accurate signature.\n",
      " |  \n",
      " |  ----------------------------------------------------------------------\n",
      " |  Data and other attributes defined here:\n",
      " |  \n",
      " |  __hash__ = None\n",
      "\n"
     ]
    }
   ],
   "source": [
    "help(dict)"
   ]
  },
  {
   "cell_type": "code",
   "execution_count": 10,
   "metadata": {},
   "outputs": [
    {
     "name": "stdout",
     "output_type": "stream",
     "text": [
      "<class 'dict'>\n",
      "{'nome': 'Zoey', 'tipo': 'Gato', 'status': 'querendo petisco'}\n"
     ]
    }
   ],
   "source": [
    "# Para criar o dicionaário com a função dict(), não precisa-se de aspas\n",
    "\n",
    "dados = dict(nome='Zoey', tipo='Gato', status='querendo petisco')\n",
    "print(type(dados))\n",
    "print(dados)"
   ]
  },
  {
   "cell_type": "code",
   "execution_count": 13,
   "metadata": {},
   "outputs": [
    {
     "data": {
      "text/plain": [
       "{'nome': 'Zoey', 'tipo': 'Gato', 'status': 'querendo petisco'}"
      ]
     },
     "execution_count": 13,
     "metadata": {},
     "output_type": "execute_result"
    }
   ],
   "source": [
    "# lista = ['Empowerdata', 'Python', 'True'] Não é possível assim\n",
    "# Deve ser usado uma lista dentrode uma lista ou pode ser utilizado uma tupla dentro de uma lista - lista = [('nome', 'Zoey'), ['tipo', 'Gato]]\n",
    "lista = [ ('nome', 'Zoey'), ['tipo', 'Gato'], ('status', 'querendo petisco') ]\n",
    "dict(lista)"
   ]
  },
  {
   "cell_type": "code",
   "execution_count": 14,
   "metadata": {},
   "outputs": [],
   "source": [
    "dict() # cria um dicionário vazio\n",
    "\n",
    "dados_vazios = dict() # ou dados_vazios = {}"
   ]
  },
  {
   "cell_type": "markdown",
   "metadata": {},
   "source": [
    "# Função Fromkeys()"
   ]
  },
  {
   "cell_type": "code",
   "execution_count": 17,
   "metadata": {},
   "outputs": [],
   "source": [
    "dados2 = {}.fromkeys(['nome', 'linguagem', 'status'], ['Empowerdata', 'Python', True]) # neste caso, jogará a lista completa em cada chave"
   ]
  },
  {
   "cell_type": "code",
   "execution_count": 18,
   "metadata": {},
   "outputs": [
    {
     "name": "stdout",
     "output_type": "stream",
     "text": [
      "{'nome': ['Empowerdata', 'Python', True], 'linguagem': ['Empowerdata', 'Python', True], 'status': ['Empowerdata', 'Python', True]}\n"
     ]
    }
   ],
   "source": [
    "print(dados2)"
   ]
  },
  {
   "cell_type": "markdown",
   "metadata": {},
   "source": [
    "# Métodos importantes\n",
    "get(), update()"
   ]
  },
  {
   "cell_type": "code",
   "execution_count": 19,
   "metadata": {},
   "outputs": [],
   "source": [
    "# get\n",
    "# é usado para recuperar valores sem quebrar o código caso não encontre o valor procurado\n",
    "dados = {'nome': 'Zoey', 'tipo': 'gato', 'status': True}"
   ]
  },
  {
   "cell_type": "code",
   "execution_count": 22,
   "metadata": {},
   "outputs": [
    {
     "data": {
      "text/plain": [
       "'gato'"
      ]
     },
     "execution_count": 22,
     "metadata": {},
     "output_type": "execute_result"
    }
   ],
   "source": [
    "dados['tipo']"
   ]
  },
  {
   "cell_type": "code",
   "execution_count": 26,
   "metadata": {},
   "outputs": [
    {
     "name": "stdout",
     "output_type": "stream",
     "text": [
      "Zoey\n",
      "None\n"
     ]
    }
   ],
   "source": [
    "print(dados.get('nome'))\n",
    "print(dados.get('nomi'))"
   ]
  },
  {
   "cell_type": "code",
   "execution_count": 27,
   "metadata": {},
   "outputs": [
    {
     "data": {
      "text/plain": [
       "False"
      ]
     },
     "execution_count": 27,
     "metadata": {},
     "output_type": "execute_result"
    }
   ],
   "source": [
    "bool(dados.get('nomee'))"
   ]
  },
  {
   "cell_type": "code",
   "execution_count": 28,
   "metadata": {},
   "outputs": [
    {
     "data": {
      "text/plain": [
       "True"
      ]
     },
     "execution_count": 28,
     "metadata": {},
     "output_type": "execute_result"
    }
   ],
   "source": [
    "bool(dados.get('nome'))"
   ]
  },
  {
   "cell_type": "code",
   "execution_count": 36,
   "metadata": {},
   "outputs": [
    {
     "name": "stdout",
     "output_type": "stream",
     "text": [
      "Nome: Zoey\n"
     ]
    }
   ],
   "source": [
    "# exemplo\n",
    "if dados.get('nome'):\n",
    "    print(f\"Nome: {dados['nome']}\")"
   ]
  },
  {
   "cell_type": "code",
   "execution_count": 40,
   "metadata": {},
   "outputs": [
    {
     "name": "stdout",
     "output_type": "stream",
     "text": [
      "{'nome': 'Zoey', 'tipo': 'gato', 'status': True, 'login': 'ZoeyPetisco'}\n"
     ]
    }
   ],
   "source": [
    "# update\n",
    "# utilizado para atualizar informações no dicionário, ou adicionar novas\n",
    "# é possível atualizar dicionários com chaves de outros dicionários\n",
    "\n",
    "dados = {'nome': 'Zoey', 'tipo': 'gato', 'status': True}\n",
    "dados2 = {'login': 'ZoeyPetisco'}\n",
    "\n",
    "dados.update(dados2)\n",
    "print(dados)"
   ]
  },
  {
   "cell_type": "code",
   "execution_count": 43,
   "metadata": {},
   "outputs": [
    {
     "name": "stdout",
     "output_type": "stream",
     "text": [
      "{'nome': 'Zoey', 'tipo': 'gato', 'status': False, 'login': 'ZoeyPetisco'}\n"
     ]
    }
   ],
   "source": [
    "# no caso de chaves iguais, a chave existente será atualizada \n",
    "dados = {'nome': 'Zoey', 'tipo': 'gato', 'status': True}\n",
    "dados2 = {'login': 'ZoeyPetisco', 'status': False}\n",
    "\n",
    "dados.update(dados2)\n",
    "print(dados)"
   ]
  },
  {
   "cell_type": "markdown",
   "metadata": {},
   "source": [
    "# Iterando em dicionários"
   ]
  },
  {
   "cell_type": "code",
   "execution_count": 49,
   "metadata": {},
   "outputs": [
    {
     "name": "stdout",
     "output_type": "stream",
     "text": [
      "nome Zoey\n",
      "tipo gato\n",
      "status True\n"
     ]
    }
   ],
   "source": [
    "# chaves --> keys()\n",
    "dados = {'nome': 'Zoey', 'tipo': 'gato', 'status': True}\n",
    "\n",
    "dados.keys() # lista as chaves do dicionário\n",
    "\n",
    "for chave in dados.keys():\n",
    "    print(chave, dados[chave])"
   ]
  },
  {
   "cell_type": "code",
   "execution_count": 53,
   "metadata": {},
   "outputs": [
    {
     "name": "stdout",
     "output_type": "stream",
     "text": [
      "Zoey\n",
      "gato\n",
      "True\n"
     ]
    }
   ],
   "source": [
    "# valores --> values()\n",
    "dados = {'nome': 'Zoey', 'tipo': 'gato', 'status': True}\n",
    "\n",
    "dados.values()\n",
    "\n",
    "for valor in dados.values():\n",
    "    print(valor)\n",
    "\n"
   ]
  },
  {
   "cell_type": "code",
   "execution_count": 57,
   "metadata": {},
   "outputs": [
    {
     "name": "stdout",
     "output_type": "stream",
     "text": [
      "dict_items([('nome', 'Zoey'), ('tipo', 'gato'), ('status', True)])\n",
      "nome Zoey\n",
      "tipo gato\n",
      "status True\n"
     ]
    }
   ],
   "source": [
    "# items --> ()\n",
    "dados = {'nome': 'Zoey', 'tipo': 'gato', 'status': True}\n",
    "dados.items()\n",
    "\n",
    "print(dados.items())\n",
    "\n",
    "for chave, valor in dados.items():\n",
    "    print(chave, valor)\n"
   ]
  },
  {
   "cell_type": "markdown",
   "metadata": {},
   "source": [
    "# Trabalhando com dicionários\n",
    "Dado o dicionário abaixo, crie uma função que receba a sigla de um país e imprima o nome, a sigla e sua capital"
   ]
  },
  {
   "cell_type": "code",
   "execution_count": 137,
   "metadata": {},
   "outputs": [],
   "source": [
    "paises = {\n",
    "    'sigla': ['BRA', 'EUA', 'JPN', 'CHN'],\n",
    "    'nome': ['Brasil', 'Estados Unidos', 'Japão', 'China'],\n",
    "    'capital': ['Brasilia', 'Washington', 'Tokyo', 'Pequim']\n",
    "}"
   ]
  },
  {
   "cell_type": "code",
   "execution_count": 62,
   "metadata": {},
   "outputs": [
    {
     "name": "stdout",
     "output_type": "stream",
     "text": [
      "dict_keys(['sigla', 'nome', 'capital'])\n",
      "dict_values([['BR', 'EUA', 'JPN', 'CHN'], ['Brasil', 'Estados Unidos', 'Japão', 'China'], ['Brasilia', 'Washington', 'Tokyo', 'Pequim']])\n",
      "dict_items([('sigla', ['BR', 'EUA', 'JPN', 'CHN']), ('nome', ['Brasil', 'Estados Unidos', 'Japão', 'China']), ('capital', ['Brasilia', 'Washington', 'Tokyo', 'Pequim'])])\n"
     ]
    }
   ],
   "source": [
    "print(paises.keys())\n",
    "print(paises.values())\n",
    "print(paises.items())"
   ]
  },
  {
   "cell_type": "code",
   "execution_count": 65,
   "metadata": {},
   "outputs": [
    {
     "name": "stdout",
     "output_type": "stream",
     "text": [
      "['BR', 'EUA', 'JPN', 'CHN']\n"
     ]
    }
   ],
   "source": [
    "print(paises.get('sigla'))"
   ]
  },
  {
   "cell_type": "code",
   "execution_count": 126,
   "metadata": {},
   "outputs": [],
   "source": [
    "def sg_pais(sgp):\n",
    "    sigla_digitada = sgp\n",
    "    print(sigla_digitada)\n",
    "    if paises.values() == sigla_digitada:\n",
    "        print('foi porra')\n"
   ]
  },
  {
   "cell_type": "code",
   "execution_count": 130,
   "metadata": {},
   "outputs": [
    {
     "name": "stdout",
     "output_type": "stream",
     "text": [
      "BRA\n"
     ]
    }
   ],
   "source": [
    "sg_pais('BRA')"
   ]
  },
  {
   "cell_type": "markdown",
   "metadata": {},
   "source": [
    "# Resposta"
   ]
  },
  {
   "cell_type": "code",
   "execution_count": 131,
   "metadata": {},
   "outputs": [
    {
     "name": "stdout",
     "output_type": "stream",
     "text": [
      "BRA\n"
     ]
    }
   ],
   "source": [
    "def info_pais(sigla):\n",
    "    print(sigla)\n",
    "\n",
    "info_pais('BRA')"
   ]
  },
  {
   "cell_type": "code",
   "execution_count": 133,
   "metadata": {},
   "outputs": [
    {
     "name": "stdout",
     "output_type": "stream",
     "text": [
      "['BR', 'EUA', 'JPN', 'CHN']\n"
     ]
    }
   ],
   "source": [
    "def info_pais(sigla):\n",
    "    print(paises['sigla'])\n",
    "\n",
    "info_pais('BRA')"
   ]
  },
  {
   "cell_type": "code",
   "execution_count": 138,
   "metadata": {},
   "outputs": [
    {
     "name": "stdout",
     "output_type": "stream",
     "text": [
      "0\n"
     ]
    }
   ],
   "source": [
    "def info_pais(sigla):\n",
    "    print(paises['sigla'].index(sigla))\n",
    "\n",
    "info_pais('BRA')"
   ]
  },
  {
   "cell_type": "code",
   "execution_count": 139,
   "metadata": {},
   "outputs": [],
   "source": [
    "def info_pais(sigla):\n",
    "    indice = paises['sigla'].index(sigla)\n",
    "    nome = paises['nome'][indice]\n",
    "    capital = paises['capital'][indice]\n",
    "\n",
    "    print(f'A sigla do {nome} é {sigla} e sua capital é {capital}!')"
   ]
  },
  {
   "cell_type": "code",
   "execution_count": 140,
   "metadata": {},
   "outputs": [
    {
     "name": "stdout",
     "output_type": "stream",
     "text": [
      "A sigla do Japão é JPN e sua capital é Tokyo!\n"
     ]
    }
   ],
   "source": [
    "info_pais('JPN')"
   ]
  },
  {
   "cell_type": "code",
   "execution_count": 141,
   "metadata": {},
   "outputs": [
    {
     "name": "stdout",
     "output_type": "stream",
     "text": [
      "A sigla do Brasil é BRA e sua capital é Brasilia!\n"
     ]
    }
   ],
   "source": [
    "info_pais('BRA')"
   ]
  },
  {
   "cell_type": "code",
   "execution_count": 166,
   "metadata": {},
   "outputs": [],
   "source": [
    "# trantando os erros\n",
    "\n",
    "def info_pais(sigla):\n",
    "    if paises.get(sigla):\n",
    "        indice = paises['sigla'].index(sigla)\n",
    "        nome = paises['nome'][indice]\n",
    "        capital = paises['capital'][indice]\n",
    "        print(f'A sigla do {nome} é {sigla} e sua capital é {capital}!')\n",
    "    else:\n",
    "        print(f'A sigla {sigla} não foi localizada em nossa lista de países.')\n",
    "    \n",
    "    "
   ]
  },
  {
   "cell_type": "code",
   "execution_count": 155,
   "metadata": {},
   "outputs": [
    {
     "data": {
      "text/plain": [
       "'Japão'"
      ]
     },
     "execution_count": 155,
     "metadata": {},
     "output_type": "execute_result"
    }
   ],
   "source": [
    "paises.get('nome')[2]"
   ]
  },
  {
   "cell_type": "code",
   "execution_count": 167,
   "metadata": {},
   "outputs": [
    {
     "name": "stdout",
     "output_type": "stream",
     "text": [
      "A sigla PUTA não foi localizada em nossa lista de países.\n"
     ]
    }
   ],
   "source": [
    "info_pais('PUTA')"
   ]
  },
  {
   "cell_type": "code",
   "execution_count": 165,
   "metadata": {},
   "outputs": [
    {
     "data": {
      "text/plain": [
       "False"
      ]
     },
     "execution_count": 165,
     "metadata": {},
     "output_type": "execute_result"
    }
   ],
   "source": [
    "'BRA' in paises.get('sigla')\n",
    "'PUITA' in paises.get('sigla')"
   ]
  },
  {
   "cell_type": "code",
   "execution_count": 171,
   "metadata": {},
   "outputs": [
    {
     "name": "stdout",
     "output_type": "stream",
     "text": [
      "A sigla PUTA MERDA não foi localizada em nossa lista de países.\n"
     ]
    }
   ],
   "source": [
    "info_pais('PUTA MERDA')"
   ]
  },
  {
   "cell_type": "code",
   "execution_count": null,
   "metadata": {},
   "outputs": [],
   "source": []
  }
 ],
 "metadata": {
  "kernelspec": {
   "display_name": "base",
   "language": "python",
   "name": "python3"
  },
  "language_info": {
   "codemirror_mode": {
    "name": "ipython",
    "version": 3
   },
   "file_extension": ".py",
   "mimetype": "text/x-python",
   "name": "python",
   "nbconvert_exporter": "python",
   "pygments_lexer": "ipython3",
   "version": "3.11.7"
  }
 },
 "nbformat": 4,
 "nbformat_minor": 2
}
