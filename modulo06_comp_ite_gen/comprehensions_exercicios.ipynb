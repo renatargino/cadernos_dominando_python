{
 "cells": [
  {
   "cell_type": "markdown",
   "metadata": {},
   "source": [
    "As compreensões de lista são ferramentas poderosas em Python que permitem criar e manipular listas de maneira concisa e eficiente. Para testar seus conhecimentos e aprimorar suas habilidades, seguem desafios que exploram diferentes aspectos dessa funcionalidade.\n",
    "\n",
    "Dicas:\n",
    "\n",
    "Explore as diferentes sintaxes de compreensões:\n",
    "[expressão for variável in sequencia]\n",
    "[expressão for variável in sequencia if condição]\n",
    "{chave: expressão for variável in sequencia}\n",
    "{chave: expressão for variável in sequencia if condição}\n",
    "Utilize funções embutidas do Python, como range(), len(), all(), any(), etc., para auxiliar na construção das suas compreensões.\n",
    "Combine compreensões com outras estruturas de controle, como if e for, para criar soluções mais complexas.\n",
    "Bônus:\n",
    "\n",
    "Tente resolver os desafios das aulas anteriores sobre elif, while e for utilizando compreensões.\n",
    "Adapte os desafios para atender a diferentes cenários e necessidades, ajustando os valores, critérios de filtragem e operações realizadas.\n",
    "Compartilhe suas soluções com outros programadores e aprenda com diferentes abordagens para os mesmos problemas.\n",
    "Lembre-se que a prática leva à perfeição! Quanto mais você utilizar as compreensões em Python, mais familiarizado se tornará com essas ferramentas poderosas e versáteis."
   ]
  },
  {
   "cell_type": "markdown",
   "metadata": {
    "vscode": {
     "languageId": "plaintext"
    }
   },
   "source": [
    "1. Criando uma Lista de Múltiplos:\n",
    "\n",
    "Escreva uma lista que contenha os múltiplos de 3 entre 1 e 100 utilizando uma compreensão de lista."
   ]
  },
  {
   "cell_type": "code",
   "execution_count": 4,
   "metadata": {},
   "outputs": [
    {
     "name": "stdout",
     "output_type": "stream",
     "text": [
      "[0, 3, 6, 9, 12, 15, 18, 21, 24, 27, 30, 33, 36, 39, 42, 45, 48, 51, 54, 57, 60, 63, 66, 69, 72, 75, 78, 81, 84, 87, 90, 93, 96, 99, 102, 105, 108, 111, 114, 117, 120, 123, 126, 129, 132, 135, 138, 141, 144, 147, 150, 153, 156, 159, 162, 165, 168, 171, 174, 177, 180, 183, 186, 189, 192, 195, 198, 201, 204, 207, 210, 213, 216, 219, 222, 225, 228, 231, 234, 237, 240, 243, 246, 249, 252, 255, 258, 261, 264, 267, 270, 273, 276, 279, 282, 285, 288, 291, 294, 297, 300]\n"
     ]
    }
   ],
   "source": [
    "multiplos_3 = [numero * 3 for numero in range(101)]\n",
    "print(multiplos_3)"
   ]
  },
  {
   "cell_type": "markdown",
   "metadata": {},
   "source": [
    "2. Filtrando Números Primos:\n",
    "\n",
    "Crie uma lista que contenha apenas os números primos entre 1 e 50 utilizando uma compreensão de lista."
   ]
  },
  {
   "cell_type": "code",
   "execution_count": 50,
   "metadata": {},
   "outputs": [
    {
     "ename": "TypeError",
     "evalue": "'float' object cannot be interpreted as an integer",
     "output_type": "error",
     "traceback": [
      "\u001b[1;31m---------------------------------------------------------------------------\u001b[0m",
      "\u001b[1;31mTypeError\u001b[0m                                 Traceback (most recent call last)",
      "Cell \u001b[1;32mIn[50], line 1\u001b[0m\n\u001b[1;32m----> 1\u001b[0m \u001b[38;5;28mprint\u001b[39m([numero \u001b[38;5;28;01mfor\u001b[39;00m numero \u001b[38;5;129;01min\u001b[39;00m \u001b[38;5;28mrange\u001b[39m(\u001b[38;5;241m1.0\u001b[39m,\u001b[38;5;241m51.0\u001b[39m) \u001b[38;5;28;01mif\u001b[39;00m numero \u001b[38;5;241m/\u001b[39m numero \u001b[38;5;241m==\u001b[39m \u001b[38;5;241m1.0\u001b[39m \u001b[38;5;129;01mand\u001b[39;00m numero \u001b[38;5;241m/\u001b[39m \u001b[38;5;241m1\u001b[39m \u001b[38;5;241m==\u001b[39m \u001b[38;5;28mint\u001b[39m(numero)])\n",
      "\u001b[1;31mTypeError\u001b[0m: 'float' object cannot be interpreted as an integer"
     ]
    }
   ],
   "source": [
    "print([numero for numero in range(1,51) if numero / numero == 1.0 and numero / 1 == float(numero)])\n"
   ]
  },
  {
   "cell_type": "markdown",
   "metadata": {},
   "source": [
    "3. Removendo Duplicatas de uma Lista com Compreensão de Conjunto:\n",
    "\n",
    "Crie uma lista sem elementos duplicados a partir de uma lista original utilizando uma compreensão de conjunto. A ordem dos elementos na lista final pode ser mantida ou não."
   ]
  },
  {
   "cell_type": "code",
   "execution_count": 51,
   "metadata": {},
   "outputs": [
    {
     "name": "stdout",
     "output_type": "stream",
     "text": [
      "{'Renato', 'Willians', 'Mariana', 'Targino'}\n"
     ]
    }
   ],
   "source": [
    "duplicados = ['Renato', 'Willians', 'Targino', 'Mariana', 'Willians', 'Targino']\n",
    "\n",
    "print({palavra for palavra in duplicados})"
   ]
  },
  {
   "cell_type": "markdown",
   "metadata": {},
   "source": [
    "4. Criando um Dicionário de Nomes e Idades com Compreensão de Dicionário:\n",
    "\n",
    "Crie um dicionário que mapeie nomes para idades utilizando uma compreensão de dicionário. Os dados podem ser fictícios."
   ]
  },
  {
   "cell_type": "code",
   "execution_count": 56,
   "metadata": {},
   "outputs": [
    {
     "name": "stdout",
     "output_type": "stream",
     "text": [
      "{'Renato': 35, 'Zoey': 12, 'Mariana': 30}\n"
     ]
    }
   ],
   "source": [
    "nomes = ['Renato', 'Zoey', 'Mariana']\n",
    "idades = [35,12,30]\n",
    "\n",
    "print({nomes[indice]:idades[indice] for indice in range(len(nomes))})\n"
   ]
  },
  {
   "cell_type": "markdown",
   "metadata": {},
   "source": [
    "5. Filtrando Chaves e Valores em um Dicionário com Compreensão de Dicionário:\n",
    "\n",
    "Crie um novo dicionário contendo apenas as chaves e valores que atendem a um determinado critério a partir de um dicionário original. Utilize uma compreensão de dicionário para realizar essa filtragem."
   ]
  },
  {
   "cell_type": "code",
   "execution_count": 86,
   "metadata": {},
   "outputs": [
    {
     "name": "stdout",
     "output_type": "stream",
     "text": [
      "{'Renato', 'Mariana', 'Zoey', 'Jack'}\n",
      "{8, 35, 12, 30}\n",
      "{'Renato', 'Mariana'}\n"
     ]
    }
   ],
   "source": [
    "dict_original = {\n",
    "    'Renato':35,\n",
    "    'Zoey': 12,\n",
    "    'Mariana': 30,\n",
    "    'Jack': 8\n",
    "}\n",
    "\n",
    "print({nome for nome in dict_original})\n",
    "print({idade for idade in dict_original.values()})\n",
    "\n",
    "print({nome for nome in dict_original if dict_original.get(nome) >= 18})\n"
   ]
  },
  {
   "cell_type": "code",
   "execution_count": null,
   "metadata": {},
   "outputs": [],
   "source": []
  },
  {
   "cell_type": "code",
   "execution_count": null,
   "metadata": {},
   "outputs": [],
   "source": []
  },
  {
   "cell_type": "code",
   "execution_count": null,
   "metadata": {},
   "outputs": [],
   "source": []
  },
  {
   "cell_type": "code",
   "execution_count": null,
   "metadata": {},
   "outputs": [],
   "source": []
  },
  {
   "cell_type": "code",
   "execution_count": null,
   "metadata": {},
   "outputs": [],
   "source": []
  },
  {
   "cell_type": "code",
   "execution_count": null,
   "metadata": {},
   "outputs": [],
   "source": []
  }
 ],
 "metadata": {
  "kernelspec": {
   "display_name": "base",
   "language": "python",
   "name": "python3"
  },
  "language_info": {
   "codemirror_mode": {
    "name": "ipython",
    "version": 3
   },
   "file_extension": ".py",
   "mimetype": "text/x-python",
   "name": "python",
   "nbconvert_exporter": "python",
   "pygments_lexer": "ipython3",
   "version": "3.11.7"
  }
 },
 "nbformat": 4,
 "nbformat_minor": 2
}
