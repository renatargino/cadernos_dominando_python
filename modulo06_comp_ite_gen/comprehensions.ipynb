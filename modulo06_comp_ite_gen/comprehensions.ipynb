{
 "cells": [
  {
   "cell_type": "markdown",
   "metadata": {},
   "source": [
    "# Comprehensions\n",
    "\n",
    "- forma mais concisa de gerar coleções em apenas uma linha de código\n",
    "- podem conter testes lógicos\n",
    "- podem utilizar expressões lambdas\n",
    "\n",
    "Aplicações:\n",
    "- maior facilidade de escrever código\n",
    "- podem substituir loops, map() e filter() em muitas situações\n",
    "- podem ser muito performáticos"
   ]
  },
  {
   "cell_type": "markdown",
   "metadata": {},
   "source": [
    "## List comprehensions\n"
   ]
  },
  {
   "cell_type": "code",
   "execution_count": 5,
   "metadata": {},
   "outputs": [
    {
     "name": "stdout",
     "output_type": "stream",
     "text": [
      "[0, 1, 2, 3, 4, 5, 6, 7, 8, 9]\n"
     ]
    }
   ],
   "source": [
    "lista_1 = []  # método 1\n",
    "for numero in range(10):\n",
    "    lista_1.append(numero)\n",
    "\n",
    "print(lista_1)"
   ]
  },
  {
   "cell_type": "code",
   "execution_count": 6,
   "metadata": {},
   "outputs": [
    {
     "name": "stdout",
     "output_type": "stream",
     "text": [
      "[0, 1, 2, 3, 4, 5, 6, 7, 8, 9]\n"
     ]
    }
   ],
   "source": [
    "lista_2 = list(range(10))  # método 2\n",
    "\n",
    "print(lista_2)"
   ]
  },
  {
   "cell_type": "code",
   "execution_count": 8,
   "metadata": {},
   "outputs": [
    {
     "data": {
      "text/plain": [
       "[0, 1, 2, 3, 4, 5, 6, 7, 8, 9]"
      ]
     },
     "execution_count": 8,
     "metadata": {},
     "output_type": "execute_result"
    }
   ],
   "source": [
    "# comprehension\n",
    "# [ que cada elemento seja numero para numero no range de 10]\n",
    "[numero for numero in range(10)]\n"
   ]
  },
  {
   "cell_type": "code",
   "execution_count": 11,
   "metadata": {},
   "outputs": [
    {
     "data": {
      "text/plain": [
       "['R',\n",
       " 'E',\n",
       " 'N',\n",
       " 'A',\n",
       " 'T',\n",
       " 'O',\n",
       " ' ',\n",
       " 'W',\n",
       " 'I',\n",
       " 'L',\n",
       " 'L',\n",
       " 'I',\n",
       " 'A',\n",
       " 'N',\n",
       " 'S',\n",
       " ' ',\n",
       " 'T',\n",
       " 'A',\n",
       " 'R',\n",
       " 'G',\n",
       " 'I',\n",
       " 'N',\n",
       " 'O']"
      ]
     },
     "execution_count": 11,
     "metadata": {},
     "output_type": "execute_result"
    }
   ],
   "source": [
    "nome = 'Renato Willians Targino'\n",
    "list(nome.upper())"
   ]
  },
  {
   "cell_type": "code",
   "execution_count": 12,
   "metadata": {},
   "outputs": [
    {
     "name": "stdout",
     "output_type": "stream",
     "text": [
      "['R', 'e', 'n', 'a', 't', 'o', ' ', 'W', 'i', 'l', 'l', 'i', 'a', 'n', 's', ' ', 'T', 'a', 'r', 'g', 'i', 'n', 'o']\n"
     ]
    }
   ],
   "source": [
    "print([letra for letra in nome])"
   ]
  },
  {
   "cell_type": "code",
   "execution_count": 13,
   "metadata": {},
   "outputs": [
    {
     "name": "stdout",
     "output_type": "stream",
     "text": [
      "['RR', 'ee', 'nn', 'aa', 'tt', 'oo', '  ', 'WW', 'ii', 'll', 'll', 'ii', 'aa', 'nn', 'ss', '  ', 'TT', 'aa', 'rr', 'gg', 'ii', 'nn', 'oo']\n"
     ]
    }
   ],
   "source": [
    "print([letra + letra for letra in nome])"
   ]
  },
  {
   "cell_type": "code",
   "execution_count": 14,
   "metadata": {},
   "outputs": [
    {
     "name": "stdout",
     "output_type": "stream",
     "text": [
      "['Rr', 'Ee', 'Nn', 'Aa', 'Tt', 'Oo', '  ', 'Ww', 'Ii', 'Ll', 'Ll', 'Ii', 'Aa', 'Nn', 'Ss', '  ', 'Tt', 'Aa', 'Rr', 'Gg', 'Ii', 'Nn', 'Oo']\n"
     ]
    }
   ],
   "source": [
    "print([letra.upper() + letra.lower() for letra in nome])"
   ]
  },
  {
   "cell_type": "code",
   "execution_count": 15,
   "metadata": {},
   "outputs": [
    {
     "name": "stdout",
     "output_type": "stream",
     "text": [
      "[0, 1, 2, 3, 4, 5, 6, 7, 8, 9, 10, 11, 12, 13, 14, 15, 16, 17, 18, 19, 20, 21, 22, 23, 24, 25, 26, 27, 28, 29, 30, 31, 32, 33, 34, 35, 36, 37, 38, 39, 40, 41, 42, 43, 44, 45, 46, 47, 48, 49, 50, 51, 52, 53, 54, 55, 56, 57, 58, 59, 60, 61, 62, 63, 64, 65, 66, 67, 68, 69, 70, 71, 72, 73, 74, 75, 76, 77, 78, 79, 80, 81, 82, 83, 84, 85, 86, 87, 88, 89, 90, 91, 92, 93, 94, 95, 96, 97, 98, 99]\n"
     ]
    }
   ],
   "source": [
    "lista = list(range(100))\n",
    "print(lista)"
   ]
  },
  {
   "cell_type": "code",
   "execution_count": 20,
   "metadata": {},
   "outputs": [
    {
     "name": "stdout",
     "output_type": "stream",
     "text": [
      "[0, 2, 4, 6, 8, 10, 12, 14, 16, 18, 20, 22, 24, 26, 28, 30, 32, 34, 36, 38, 40, 42, 44, 46, 48, 50, 52, 54, 56, 58, 60, 62, 64, 66, 68, 70, 72, 74, 76, 78, 80, 82, 84, 86, 88, 90, 92, 94, 96, 98]\n"
     ]
    }
   ],
   "source": [
    "#filtrando números pares\n",
    "print([par for par in lista if par % 2 == 0])"
   ]
  },
  {
   "cell_type": "code",
   "execution_count": 22,
   "metadata": {},
   "outputs": [
    {
     "name": "stdout",
     "output_type": "stream",
     "text": [
      "[1, 3, 5, 7, 9, 11, 13, 15, 17, 19, 21, 23, 25, 27, 29, 31, 33, 35, 37, 39, 41, 43, 45, 47, 49, 51, 53, 55, 57, 59, 61, 63, 65, 67, 69, 71, 73, 75, 77, 79, 81, 83, 85, 87, 89, 91, 93, 95, 97, 99]\n"
     ]
    }
   ],
   "source": [
    "#filtrando números ímpares\n",
    "print([impar for impar in lista if impar % 2 != 0])"
   ]
  },
  {
   "cell_type": "code",
   "execution_count": 24,
   "metadata": {},
   "outputs": [
    {
     "name": "stdout",
     "output_type": "stream",
     "text": [
      "[0.0, 2, 1.0, 6, 2.0, 10, 3.0, 14, 4.0, 18, 5.0, 22, 6.0, 26, 7.0, 30, 8.0, 34, 9.0, 38, 10.0, 42, 11.0, 46, 12.0, 50, 13.0, 54, 14.0, 58, 15.0, 62, 16.0, 66, 17.0, 70, 18.0, 74, 19.0, 78, 20.0, 82, 21.0, 86, 22.0, 90, 23.0, 94, 24.0, 98, 25.0, 102, 26.0, 106, 27.0, 110, 28.0, 114, 29.0, 118, 30.0, 122, 31.0, 126, 32.0, 130, 33.0, 134, 34.0, 138, 35.0, 142, 36.0, 146, 37.0, 150, 38.0, 154, 39.0, 158, 40.0, 162, 41.0, 166, 42.0, 170, 43.0, 174, 44.0, 178, 45.0, 182, 46.0, 186, 47.0, 190, 48.0, 194, 49.0, 198]\n"
     ]
    }
   ],
   "source": [
    "print([numero / 2 if numero % 2 == 0 else numero *2 for numero in lista])"
   ]
  },
  {
   "cell_type": "code",
   "execution_count": 26,
   "metadata": {},
   "outputs": [
    {
     "name": "stdout",
     "output_type": "stream",
     "text": [
      "['Eu', 'estou', 'estudando', 'a', 'linguagem', 'Python']\n"
     ]
    }
   ],
   "source": [
    "frase = 'Eu estou estudando a linguagem Python'\n",
    "print([palavra for palavra in frase.split()])"
   ]
  },
  {
   "cell_type": "markdown",
   "metadata": {},
   "source": [
    "# Dict comprehensions"
   ]
  },
  {
   "cell_type": "code",
   "execution_count": 29,
   "metadata": {},
   "outputs": [
    {
     "name": "stdout",
     "output_type": "stream",
     "text": [
      "[0, 1, 2, 3, 4, 5, 6, 7, 8, 9]\n"
     ]
    }
   ],
   "source": [
    "lista = list(range(10))\n",
    "print(lista)"
   ]
  },
  {
   "cell_type": "code",
   "execution_count": 31,
   "metadata": {},
   "outputs": [
    {
     "name": "stdout",
     "output_type": "stream",
     "text": [
      "{0: 0, 1: 1, 2: 2, 3: 3, 4: 4, 5: 5, 6: 6, 7: 7, 8: 8, 9: 9}\n"
     ]
    }
   ],
   "source": [
    "print({numero:numero for numero in lista})"
   ]
  },
  {
   "cell_type": "code",
   "execution_count": 32,
   "metadata": {},
   "outputs": [
    {
     "name": "stdout",
     "output_type": "stream",
     "text": [
      "{'0': 0, '1': 1, '2': 2, '3': 3, '4': 4, '5': 5, '6': 6, '7': 7, '8': 8, '9': 9}\n"
     ]
    }
   ],
   "source": [
    "print({str(numero):numero for numero in lista})"
   ]
  },
  {
   "cell_type": "code",
   "execution_count": 35,
   "metadata": {},
   "outputs": [
    {
     "name": "stdout",
     "output_type": "stream",
     "text": [
      "{'chave-0': 0, 'chave-1': 1, 'chave-2': 2, 'chave-3': 3, 'chave-4': 4, 'chave-5': 5, 'chave-6': 6, 'chave-7': 7, 'chave-8': 8, 'chave-9': 9}\n"
     ]
    }
   ],
   "source": [
    "print({'chave-' + str(numero):numero for numero in lista})"
   ]
  },
  {
   "cell_type": "code",
   "execution_count": 39,
   "metadata": {},
   "outputs": [
    {
     "name": "stdout",
     "output_type": "stream",
     "text": [
      "{'Renato': 8, 'Zoey': 8.2, 'Mariana': 7.1, 'Paulo': 6, 'Ricardo': 9.9, 'Lourival': 10}\n"
     ]
    }
   ],
   "source": [
    "alunos = ['Renato', 'Zoey', 'Mariana', 'Paulo', 'Ricardo', 'Lourival']\n",
    "notas = [8, 8.2, 7.1, 6, 9.9, 10]\n",
    "\n",
    "print({alunos[indice]:notas[indice] for indice in range(len(alunos))})"
   ]
  },
  {
   "cell_type": "markdown",
   "metadata": {},
   "source": [
    "# Set comprehensions"
   ]
  },
  {
   "cell_type": "code",
   "execution_count": 40,
   "metadata": {},
   "outputs": [
    {
     "name": "stdout",
     "output_type": "stream",
     "text": [
      "[0, 1, 2, 3, 4, 5, 6, 7, 8, 9]\n"
     ]
    }
   ],
   "source": [
    "lista = list(range(10))\n",
    "print(lista)"
   ]
  },
  {
   "cell_type": "code",
   "execution_count": 41,
   "metadata": {},
   "outputs": [
    {
     "name": "stdout",
     "output_type": "stream",
     "text": [
      "{0, 1, 2, 3, 4, 5, 6, 7, 8, 9}\n"
     ]
    }
   ],
   "source": [
    "print({numero for numero in lista})"
   ]
  },
  {
   "cell_type": "code",
   "execution_count": 42,
   "metadata": {},
   "outputs": [
    {
     "data": {
      "text/plain": [
       "{'R', 'a', 'e', 'n', 'o', 't'}"
      ]
     },
     "execution_count": 42,
     "metadata": {},
     "output_type": "execute_result"
    }
   ],
   "source": [
    "nome = 'Renato'\n",
    "{letra for letra in nome}"
   ]
  },
  {
   "cell_type": "code",
   "execution_count": null,
   "metadata": {},
   "outputs": [],
   "source": []
  }
 ],
 "metadata": {
  "kernelspec": {
   "display_name": "base",
   "language": "python",
   "name": "python3"
  },
  "language_info": {
   "codemirror_mode": {
    "name": "ipython",
    "version": 3
   },
   "file_extension": ".py",
   "mimetype": "text/x-python",
   "name": "python",
   "nbconvert_exporter": "python",
   "pygments_lexer": "ipython3",
   "version": "3.11.7"
  }
 },
 "nbformat": 4,
 "nbformat_minor": 2
}
