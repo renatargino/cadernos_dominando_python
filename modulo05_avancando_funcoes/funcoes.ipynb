{
 "cells": [
  {
   "cell_type": "markdown",
   "metadata": {},
   "source": [
    "# Funções\n",
    "\n",
    "- Reaproveitamento de código\n",
    "- Código mais organizado\n",
    "- Podem ou não ter parâmetros\n",
    "- Parâmetros podem ter valores padrões\n",
    "- Podem ou não ter retorno\n",
    "- Abstração de complexidade"
   ]
  },
  {
   "cell_type": "markdown",
   "metadata": {
    "vscode": {
     "languageId": "plaintext"
    }
   },
   "source": [
    "## Parâmetros posicionais e parâmetros nomeados"
   ]
  },
  {
   "cell_type": "code",
   "execution_count": 1,
   "metadata": {},
   "outputs": [],
   "source": [
    "def mostra_numeros(numero_1, numero_2, numero_3): #definidos 3 parâmetros. depois serão passados 3 argumentos ao chamar a função\n",
    "    print(numero_1, numero_2, numero_3)"
   ]
  },
  {
   "cell_type": "code",
   "execution_count": 2,
   "metadata": {},
   "outputs": [
    {
     "name": "stdout",
     "output_type": "stream",
     "text": [
      "10 20 30\n"
     ]
    }
   ],
   "source": [
    "mostra_numeros(10, 20, 30)  # o python saberá quais são pela posição dos parâmetros"
   ]
  },
  {
   "cell_type": "code",
   "execution_count": 3,
   "metadata": {},
   "outputs": [
    {
     "name": "stdout",
     "output_type": "stream",
     "text": [
      "10 20 30\n"
     ]
    }
   ],
   "source": [
    "mostra_numeros(numero_1=10, numero_2=20, numero_3=30) #podemos usar os parâmetros nomeados ao passar os argumentos"
   ]
  },
  {
   "cell_type": "code",
   "execution_count": 5,
   "metadata": {},
   "outputs": [
    {
     "name": "stdout",
     "output_type": "stream",
     "text": [
      "20 30 10\n"
     ]
    }
   ],
   "source": [
    "mostra_numeros(numero_3=10, numero_1=20, numero_2=30) #como foi usado parâmetro nomeado, independe da posição. parâmetros nomeados podem ser chamados fora da ordem"
   ]
  },
  {
   "cell_type": "markdown",
   "metadata": {},
   "source": [
    "## Docstrings\n",
    "\n",
    "Documentações que podemos colocar dentro de nossas funções."
   ]
  },
  {
   "cell_type": "code",
   "execution_count": 6,
   "metadata": {},
   "outputs": [
    {
     "name": "stdout",
     "output_type": "stream",
     "text": [
      "Help on built-in function sum in module builtins:\n",
      "\n",
      "sum(iterable, /, start=0)\n",
      "    Return the sum of a 'start' value (default: 0) plus an iterable of numbers\n",
      "    \n",
      "    When the iterable is empty, return the start value.\n",
      "    This function is intended specifically for use with numeric values and may\n",
      "    reject non-numeric types.\n",
      "\n"
     ]
    }
   ],
   "source": [
    "help(sum)"
   ]
  },
  {
   "cell_type": "code",
   "execution_count": 10,
   "metadata": {},
   "outputs": [],
   "source": [
    "def somar(numero_1, numero_2):\n",
    "    \"\"\"\n",
    "    A função somar() foi desenvolvida para retornar a soma de dois números inteiros.\n",
    "    \n",
    "    :param numero_1: primeiro número inteiro\n",
    "    :param numero_2: segundo número inteiro\n",
    "\n",
    "    :return: retorna a soma de numero_1 e numero_2\n",
    "    \"\"\"\n",
    "    return numero_1 + numero_2"
   ]
  },
  {
   "cell_type": "code",
   "execution_count": 11,
   "metadata": {},
   "outputs": [
    {
     "name": "stdout",
     "output_type": "stream",
     "text": [
      "Help on function somar in module __main__:\n",
      "\n",
      "somar(numero_1, numero_2)\n",
      "    A função somar() foi desenvolvida para retornar a soma de dois números inteiros.\n",
      "    \n",
      "    :param numero_1: primeiro número inteiro\n",
      "    :param numero_2: segundo número inteiro\n",
      "    \n",
      "    :return: retorna a soma de numero_1 e numero_2\n",
      "\n"
     ]
    }
   ],
   "source": [
    "help(somar)"
   ]
  },
  {
   "cell_type": "markdown",
   "metadata": {},
   "source": [
    "*args\n",
    "\n",
    "O *args é um parâmetro especial (pode ter qualquer nove, desde que tenha o asterisco!) que nos permite passar vários argumentos para uma função. Os argumentos são transofrmados em uma tupla. O * é um operador de desempacotamento, introduzido na versão 2 da linguagem e pode ser utilizado com qualquer objeto iterável.\n"
   ]
  },
  {
   "cell_type": "code",
   "execution_count": 2,
   "metadata": {},
   "outputs": [],
   "source": [
    "def somar(a, b):\n",
    "    return a + b"
   ]
  },
  {
   "cell_type": "code",
   "execution_count": 3,
   "metadata": {},
   "outputs": [
    {
     "data": {
      "text/plain": [
       "30"
      ]
     },
     "execution_count": 3,
     "metadata": {},
     "output_type": "execute_result"
    }
   ],
   "source": [
    "somar(10, 20)"
   ]
  },
  {
   "cell_type": "code",
   "execution_count": 7,
   "metadata": {},
   "outputs": [
    {
     "name": "stdout",
     "output_type": "stream",
     "text": [
      "1 2 3\n",
      "R e n a t o\n"
     ]
    }
   ],
   "source": [
    "numeros = (1, 2, 3)\n",
    "print(*numeros) # números foram desempacotados, também funciona em listas\n",
    "\n",
    "# pode ser chamado em qualquer objeto iterável\n",
    "nome = 'Renato'\n",
    "print(*nome)"
   ]
  },
  {
   "cell_type": "code",
   "execution_count": 8,
   "metadata": {},
   "outputs": [],
   "source": [
    "def somar(*args):\n",
    "    print(args)"
   ]
  },
  {
   "cell_type": "code",
   "execution_count": 9,
   "metadata": {},
   "outputs": [
    {
     "name": "stdout",
     "output_type": "stream",
     "text": [
      "(1, 2, 3, 4, 5)\n"
     ]
    }
   ],
   "source": [
    "somar(1, 2, 3, 4, 5)"
   ]
  },
  {
   "cell_type": "code",
   "execution_count": 10,
   "metadata": {},
   "outputs": [],
   "source": [
    "def somar(*args):\n",
    "    return sum(args)"
   ]
  },
  {
   "cell_type": "code",
   "execution_count": 15,
   "metadata": {},
   "outputs": [
    {
     "data": {
      "text/plain": [
       "150"
      ]
     },
     "execution_count": 15,
     "metadata": {},
     "output_type": "execute_result"
    }
   ],
   "source": [
    "somar(50, 100)"
   ]
  },
  {
   "cell_type": "code",
   "execution_count": 17,
   "metadata": {},
   "outputs": [
    {
     "data": {
      "text/plain": [
       "6"
      ]
     },
     "execution_count": 17,
     "metadata": {},
     "output_type": "execute_result"
    }
   ],
   "source": [
    "#mostrando como funciona o desempacotamento\n",
    "\n",
    "def somar_3_numeros(a, b, c):\n",
    "    return a + b + c\n",
    "\n",
    "lista = [1, 2, 3]\n",
    "\n",
    "somar_3_numeros(*lista) # o * vai desempacotar a lista para a operaçõa\n"
   ]
  },
  {
   "cell_type": "markdown",
   "metadata": {},
   "source": [
    "**kargs\n",
    "\n",
    "O *kargs é um parâmetro especial (pode ter qualquer nove, desde que tenha os dois asteriscos!) que nos permite passar vários argumentos para uma função. Os argumentos são transofrmados em um dicionário. O ** é um operador de desempacotamento, introduzido na versão 2 da linguagem e só pode ser utilizado com dicionários."
   ]
  },
  {
   "cell_type": "code",
   "execution_count": 20,
   "metadata": {},
   "outputs": [
    {
     "name": "stdout",
     "output_type": "stream",
     "text": [
      "{'nome': 'Renato', 'linguagem': 'Python'}\n"
     ]
    }
   ],
   "source": [
    "dict_a = {'nome': 'Renato'}\n",
    "dict_b = {'linguagem': 'Python'}\n",
    "dict_c = {**dict_a, **dict_b}\n",
    "print(dict_c)"
   ]
  },
  {
   "cell_type": "code",
   "execution_count": 2,
   "metadata": {},
   "outputs": [],
   "source": [
    "def calculadora (**kwargs):\n",
    "    print(kwargs)"
   ]
  },
  {
   "cell_type": "code",
   "execution_count": 3,
   "metadata": {},
   "outputs": [
    {
     "name": "stdout",
     "output_type": "stream",
     "text": [
      "{'nome': 'Renato', 'linguagem': 'Python', 'status': True}\n"
     ]
    }
   ],
   "source": [
    "calculadora(nome='Renato', linguagem='Python', status=True)"
   ]
  },
  {
   "cell_type": "code",
   "execution_count": 4,
   "metadata": {},
   "outputs": [],
   "source": [
    "def calculadora (**kwargs):\n",
    "    for valor in kwargs.values():\n",
    "        print(valor)"
   ]
  },
  {
   "cell_type": "markdown",
   "metadata": {},
   "source": [
    "# Ordem correta dos parâmetros de uma função\n",
    "\n",
    "def func(posicionais, *args, **kwargs)"
   ]
  },
  {
   "cell_type": "code",
   "execution_count": 9,
   "metadata": {},
   "outputs": [],
   "source": [
    "def somar(numero1, numero2, *args, **kwargs):\n",
    "  print(numero1)\n",
    "  print(numero2)\n",
    "  print(args)\n",
    "  print(kwargs)"
   ]
  },
  {
   "cell_type": "code",
   "execution_count": 10,
   "metadata": {},
   "outputs": [
    {
     "name": "stdout",
     "output_type": "stream",
     "text": [
      "1\n",
      "2\n",
      "(10, 20, 30, 40, 50)\n",
      "{}\n"
     ]
    }
   ],
   "source": [
    "somar(1,2,10, 20, 30, 40, 50)"
   ]
  },
  {
   "cell_type": "code",
   "execution_count": 12,
   "metadata": {},
   "outputs": [
    {
     "name": "stdout",
     "output_type": "stream",
     "text": [
      "1\n",
      "2\n",
      "(10, 20, 30, 40, 50)\n",
      "{'numero_10': 10}\n"
     ]
    }
   ],
   "source": [
    "somar(1,2,10, 20, 30, 40,50,  numero_10=10)  #se passarmos um parametro nomeado, ele irá par ao kwargs."
   ]
  },
  {
   "cell_type": "markdown",
   "metadata": {},
   "source": [
    "# Callable - passando funções para funções\n",
    "\n",
    "Passar uma função como parâmetro de outra função"
   ]
  },
  {
   "cell_type": "code",
   "execution_count": 13,
   "metadata": {},
   "outputs": [
    {
     "name": "stdout",
     "output_type": "stream",
     "text": [
      "Help on built-in function callable in module builtins:\n",
      "\n",
      "callable(obj, /)\n",
      "    Return whether the object is callable (i.e., some kind of function).\n",
      "    \n",
      "    Note that classes are callable, as are instances of classes with a\n",
      "    __call__() method.\n",
      "\n"
     ]
    }
   ],
   "source": [
    "help(callable)"
   ]
  },
  {
   "cell_type": "code",
   "execution_count": 14,
   "metadata": {},
   "outputs": [
    {
     "data": {
      "text/plain": [
       "6"
      ]
     },
     "execution_count": 14,
     "metadata": {},
     "output_type": "execute_result"
    }
   ],
   "source": [
    "lista = [1, 2, 3]\n",
    "sum(lista)"
   ]
  },
  {
   "cell_type": "code",
   "execution_count": 15,
   "metadata": {},
   "outputs": [
    {
     "data": {
      "text/plain": [
       "True"
      ]
     },
     "execution_count": 15,
     "metadata": {},
     "output_type": "execute_result"
    }
   ],
   "source": [
    "callable(sum)"
   ]
  },
  {
   "cell_type": "code",
   "execution_count": 16,
   "metadata": {},
   "outputs": [],
   "source": [
    "def somar(*args):\n",
    "    return sum(args)"
   ]
  },
  {
   "cell_type": "code",
   "execution_count": 17,
   "metadata": {},
   "outputs": [
    {
     "data": {
      "text/plain": [
       "15"
      ]
     },
     "execution_count": 17,
     "metadata": {},
     "output_type": "execute_result"
    }
   ],
   "source": [
    "somar(1,2,3,4,5)"
   ]
  },
  {
   "cell_type": "code",
   "execution_count": 19,
   "metadata": {},
   "outputs": [],
   "source": [
    "def calculadora(*args, funcao):\n",
    "    print(args)\n",
    "    print(funcao)"
   ]
  },
  {
   "cell_type": "code",
   "execution_count": 20,
   "metadata": {},
   "outputs": [
    {
     "name": "stdout",
     "output_type": "stream",
     "text": [
      "(1, 2, 3)\n",
      "teste\n"
     ]
    }
   ],
   "source": [
    "calculadora(1, 2, 3, funcao='teste')"
   ]
  },
  {
   "cell_type": "code",
   "execution_count": 29,
   "metadata": {},
   "outputs": [],
   "source": [
    "def calculadora(*args, funcao):\n",
    "    if callable(funcao):\n",
    "        return funcao(*args)    \n",
    "    \n"
   ]
  },
  {
   "cell_type": "code",
   "execution_count": 25,
   "metadata": {},
   "outputs": [
    {
     "data": {
      "text/plain": [
       "6"
      ]
     },
     "execution_count": 25,
     "metadata": {},
     "output_type": "execute_result"
    }
   ],
   "source": [
    "calculadora(1, 2, 3, funcao=somar)"
   ]
  },
  {
   "cell_type": "code",
   "execution_count": 26,
   "metadata": {},
   "outputs": [],
   "source": [
    "def multiplicar(*args):\n",
    "    resultado = 1\n",
    "    for i in args:\n",
    "        #resultado = resultado * i\n",
    "        resultado *= i\n",
    "    return resultado"
   ]
  },
  {
   "cell_type": "code",
   "execution_count": 30,
   "metadata": {},
   "outputs": [
    {
     "name": "stdout",
     "output_type": "stream",
     "text": [
      "720\n",
      "21\n",
      "None\n"
     ]
    }
   ],
   "source": [
    "print(calculadora(1,2,3,4,5, 6, funcao=multiplicar))\n",
    "print(calculadora(1,2,3,4,5, 6, funcao=somar))\n",
    "print(calculadora(1,2,3,4,5, 6, funcao='lascar'))"
   ]
  },
  {
   "cell_type": "code",
   "execution_count": null,
   "metadata": {},
   "outputs": [],
   "source": []
  },
  {
   "cell_type": "code",
   "execution_count": null,
   "metadata": {},
   "outputs": [],
   "source": []
  },
  {
   "cell_type": "code",
   "execution_count": null,
   "metadata": {},
   "outputs": [],
   "source": []
  },
  {
   "cell_type": "code",
   "execution_count": null,
   "metadata": {},
   "outputs": [],
   "source": []
  },
  {
   "cell_type": "code",
   "execution_count": null,
   "metadata": {},
   "outputs": [],
   "source": []
  }
 ],
 "metadata": {
  "kernelspec": {
   "display_name": "base",
   "language": "python",
   "name": "python3"
  },
  "language_info": {
   "codemirror_mode": {
    "name": "ipython",
    "version": 3
   },
   "file_extension": ".py",
   "mimetype": "text/x-python",
   "name": "python",
   "nbconvert_exporter": "python",
   "pygments_lexer": "ipython3",
   "version": "3.11.7"
  }
 },
 "nbformat": 4,
 "nbformat_minor": 2
}
